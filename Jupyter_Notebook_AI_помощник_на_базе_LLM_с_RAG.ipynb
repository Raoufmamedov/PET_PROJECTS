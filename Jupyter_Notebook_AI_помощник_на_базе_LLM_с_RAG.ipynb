{
  "cells": [
    {
      "cell_type": "code",
      "source": [
        "# -*- coding: utf-8 -*-"
      ],
      "metadata": {
        "id": "AQJOxhXffDRB"
      },
      "execution_count": 1,
      "outputs": []
    },
    {
      "cell_type": "markdown",
      "source": [
        "# **Jupyter Notebook: AI-помощник на базе LLM с RAG для запросов к базе знаний**\n",
        "\n",
        "## **1. Введение**\n",
        "\n",
        "### Данный ноутбук посвящен разработке интеллектуального помощника, использующего большие языковые модели (LLM) и Retrieval-Augmented Generation (RAG) для ответов на вопросы на основе предоставленной базы знаний.\n",
        "\n",
        "### **Бизнес-проблема:** Компании часто имеют обширную внутреннюю документацию, к которой трудно получить быстрый и точный доступ. AI-помощник с RAG может предоставлять контекстно-зависимые ответы, улучшая эффективность и удовлетворенность.\n",
        "\n",
        "### **Цель проекта:** Построить RAG-систему, способную отвечать на вопросы на основе реального текстового корпуса, используя бесплатные ресурсы Google Colab."
      ],
      "metadata": {
        "id": "Crw6YSg7eqlQ"
      }
    },
    {
      "cell_type": "code",
      "execution_count": 2,
      "metadata": {
        "id": "oOJp2rolzIQf"
      },
      "outputs": [],
      "source": [
        "# ## 2. установка и импорт необходимых библиотек, настройка среды\n",
        "# Здесь мы импортируем все библиотеки, которые потребуются для проекта.\n",
        "# Если ноутбук запускается в Google Colab, убедитесь, что используется среду с GPU (T4).\n",
        "\n",
        "!pip install transformers sentence-transformers langchain langchain-community faiss-cpu accelerate bitsandbytes -q\n",
        "!pip install pypdf -q # Для чтения PDF, если понадобится\n"
      ]
    },
    {
      "cell_type": "code",
      "execution_count": 3,
      "metadata": {
        "id": "kBo8sXg3Z8jj"
      },
      "outputs": [],
      "source": [
        "\n",
        "import pandas as pd\n",
        "import numpy as np\n",
        "import matplotlib.pyplot as plt\n",
        "import seaborn as sns\n",
        "import re\n",
        "import os\n",
        "import requests # Для загрузки данных\n",
        "from tqdm.notebook import tqdm # Для прогресс-баров\n",
        "from google.colab import userdata\n",
        "import os\n",
        "\n",
        "# Для RAG\n",
        "from langchain.text_splitter import RecursiveCharacterTextSplitter\n",
        "from langchain_community.embeddings import HuggingFaceEmbeddings\n",
        "from langchain_community.vectorstores import FAISS\n",
        "from langchain_community.llms import HuggingFacePipeline\n",
        "from langchain.text_splitter import RecursiveCharacterTextSplitter\n",
        "from langchain.prompts import PromptTemplate\n",
        "from transformers import AutoTokenizer, AutoModelForCausalLM, pipeline, BitsAndBytesConfig\n",
        "import torch\n",
        "from langchain_core.documents import Document"
      ]
    },
    {
      "cell_type": "code",
      "execution_count": 4,
      "metadata": {
        "id": "6l2cM8TBXMVN",
        "outputId": "7d5220b8-fc9d-45e2-d614-6f5a907beca5",
        "colab": {
          "base_uri": "https://localhost:8080/"
        }
      },
      "outputs": [
        {
          "output_type": "stream",
          "name": "stdout",
          "text": [
            "GPU доступен: Tesla T4\n"
          ]
        }
      ],
      "source": [
        "# Проверяем доступность GPU\n",
        "if torch.cuda.is_available():\n",
        "    print(f\"GPU доступен: {torch.cuda.get_device_name(0)}\")\n",
        "    device = \"cuda\"\n",
        "else:\n",
        "    print(\"GPU не доступен, будет использоваться CPU.\")\n",
        "    device = \"cpu\"\n"
      ]
    },
    {
      "cell_type": "markdown",
      "source": [
        "### Для начала собираем данные для создаваемой нами базы знаний, которую мы сформируем из англоязычного текста Библии короля Якова (KJB), опубликованного на сайте проекта Project Gutenberg. Это большой корпус, состаящий из 39 книг, и он хорошо подходит в качестве коллекции документов различающихся стилем и манерой повествования. После этого производится очистка (предполагает удаление метаданных)\n",
        "\n",
        "### Источник данных: \"The King James Version of the Bible\" (Библия короля Якова)\n",
        "### URL: https://www.gutenberg.org/files/10/10-0.txt"
      ],
      "metadata": {
        "id": "D6EQ5pMThF5d"
      }
    },
    {
      "cell_type": "code",
      "source": [
        "print(\"Загрузка текста книги из Project Gutenberg...\")\n",
        "book_url = \"https://www.gutenberg.org/files/10/10-0.txt\"\n",
        "response = requests.get(book_url)\n",
        "response.raise_for_status() # Проверка, успешности запроса\n",
        "\n",
        "raw_text = response.text\n",
        "print(f\"Текст успешно загружен. Размер текста: {len(raw_text)} символов.\")\n",
        "\n",
        "# Очистка текста: удаляем метаданные Project Gutenberg в начале и конце\n",
        "start_marker = \"*** START OF THE PROJECT GUTENBERG EBOOK 10 ***\"\n",
        "end_marker = \"*** END OF THE PROJECT GUTENBERG EBOOK 10 ***\"\n",
        "\n",
        "start_index = raw_text.find(start_marker)\n",
        "end_index = raw_text.find(end_marker)\n",
        "\n",
        "if start_index!= -1 and end_index!= -1:\n",
        "    cleaned_text = raw_text[start_index + len(start_marker):end_index].strip()\n",
        "    print(f\"Текст очищен от метаданных. Размер очищенного текста: {len(cleaned_text)} символов.\")\n",
        "else:\n",
        "    cleaned_text = raw_text.strip()\n",
        "    print(\"Метаданные не найдены, используется весь текст.\")\n",
        "\n",
        "# Сохраняем очищенный текст в файл для дальнейшей обработки\n",
        "with open(\"KJB.txt\", \"w\", encoding=\"utf-8\") as f:\n",
        "    f.write(cleaned_text)\n",
        "print(\"Очищенный текст сохранен в 'KJB.txt'.\")"
      ],
      "metadata": {
        "id": "HyQ-_ZFMhB9n",
        "outputId": "33c32590-3f76-47af-dc4f-203e4dcca579",
        "colab": {
          "base_uri": "https://localhost:8080/"
        }
      },
      "execution_count": 5,
      "outputs": [
        {
          "output_type": "stream",
          "name": "stdout",
          "text": [
            "Загрузка текста книги из Project Gutenberg...\n",
            "Текст успешно загружен. Размер текста: 4432276 символов.\n",
            "Текст очищен от метаданных. Размер очищенного текста: 4432176 символов.\n",
            "Очищенный текст сохранен в 'KJB.txt'.\n"
          ]
        }
      ]
    },
    {
      "cell_type": "markdown",
      "source": [
        "## 4. Предварительная обработка текста и генерация эмбеддингов\n",
        "\n",
        "## На этом этапе мы подготовим текстовые данные для RAG-системы:\n",
        "## - **Разбиение на чанки (Chunking):**\n",
        "## - **Генерация эмбеддингов:**\n",
        "## - **Индексация эмбеддингов в векторной базе данных FAISS**"
      ],
      "metadata": {
        "id": "GbvAwRYqsBLN"
      }
    },
    {
      "cell_type": "code",
      "execution_count": 18,
      "metadata": {
        "id": "nH8jMZp_YCor",
        "outputId": "08a7503e-f46d-48e9-be3b-8a1f23988564",
        "colab": {
          "base_uri": "https://localhost:8080/"
        }
      },
      "outputs": [
        {
          "output_type": "stream",
          "name": "stdout",
          "text": [
            "Текст разбит на 17690 чанков.\n",
            "Пример чанка:\n",
            "is the fruit of a tree yielding seed; to you it shall be for meat.\r\n",
            "\r\n",
            "1:30 And to every beast of the earth, and to every fowl of the air,\r\n",
            "and to every thing that creepeth upon the earth, wherein there is\r\n",
            "life, I have given every green herb for meat: and it was so.\r\n",
            "\r\n",
            "1:31 And God saw every thing that he had made, and, behold, it was\r\n",
            "very good. And the evening and the morning were the sixth day.\r\n",
            "\r\n",
            "2:1 Thus the heavens and the earth were finished, and all the host of\r\n",
            "them....\n"
          ]
        }
      ],
      "source": [
        "from langchain_core.documents import Document\n",
        "\n",
        "# Обёртывание текста в объект Document\n",
        "documents = [Document(page_content=cleaned_text, metadata={\"source\": \"your_source\"})]\n",
        "\n",
        "# Разбиение\n",
        "text_splitter = RecursiveCharacterTextSplitter(\n",
        "    chunk_size=500,\n",
        "    chunk_overlap=250,\n",
        "    length_function=len\n",
        ")\n",
        "chunks = text_splitter.split_documents(documents)  # Список чанков\n",
        "\n",
        "print(f\"Текст разбит на {len(chunks)} чанков.\")\n",
        "print(\"Пример чанка:\")\n",
        "print(chunks[25].page_content[:1000] + \"...\")"
      ]
    },
    {
      "cell_type": "markdown",
      "source": [
        "### Создаём из чанков эмбединги с использованием небольшой и эффективной модели семантического поиска **all-MiniLM-L6-v2** и индексируем в базе данных FAISS, которая позволяет нам эффективно искать сходство между векторами."
      ],
      "metadata": {
        "id": "RhzSEQ5B2AH3"
      }
    },
    {
      "cell_type": "code",
      "execution_count": 19,
      "metadata": {
        "id": "VAhXYj7-arhH"
      },
      "outputs": [],
      "source": [
        "embedding_model_name = \"sentence-transformers/all-MiniLM-L6-v2\"\n",
        "embeddings = HuggingFaceEmbeddings(model_name=embedding_model_name, model_kwargs={'device': device})"
      ]
    },
    {
      "cell_type": "code",
      "execution_count": 20,
      "metadata": {
        "id": "gZ6QZJrza2m8",
        "outputId": "26242080-ad89-4059-9f4b-a74a4d730261",
        "colab": {
          "base_uri": "https://localhost:8080/"
        }
      },
      "outputs": [
        {
          "output_type": "stream",
          "name": "stdout",
          "text": [
            "Путь до векторной базы данных FAISS: /tmp/faiss_index_KJB\n"
          ]
        }
      ],
      "source": [
        "# 4.3. Индексация в векторной базе данных (FAISS)\n",
        "vector_store = FAISS.from_documents(chunks, embeddings)\n",
        "\n",
        "# Сохраняем векторную базу данных локально (для использования в API)\n",
        "vector_store_path = \"/tmp/faiss_index_KJB\"\n",
        "vector_store.save_local(vector_store_path)\n",
        "print(f\"Путь до векторной базы данных FAISS: {vector_store_path}\")"
      ]
    },
    {
      "cell_type": "markdown",
      "source": [
        "## 5. Настройка Большой Языковой Модели (LLM)\n",
        "\n",
        "### Генерировать ответы мы будем с помощью небольшой и мощной модели **gemma-2b-it**, работающей даже на CPU применяя 4-битную квантизацию, чтобы уместить модель в память GPU и ускорить её."
      ],
      "metadata": {
        "id": "CCOZKohkEmgM"
      }
    },
    {
      "cell_type": "code",
      "execution_count": 21,
      "metadata": {
        "id": "AAvup5OcbH3X",
        "outputId": "958eb08a-af11-4046-fc76-94075c357648",
        "colab": {
          "base_uri": "https://localhost:8080/"
        }
      },
      "outputs": [
        {
          "output_type": "stream",
          "name": "stdout",
          "text": [
            "Загрузка токенизатора для google/gemma-2b-it...\n"
          ]
        }
      ],
      "source": [
        "# Конфигурация для 4-битной квантизации\n",
        "nf4_config = BitsAndBytesConfig(\n",
        "    load_in_4bit=True,\n",
        "    bnb_4bit_quant_type=\"nf4\",\n",
        "    bnb_4bit_use_double_quant=True,\n",
        "    bnb_4bit_compute_dtype=torch.bfloat16\n",
        ")\n",
        "\n",
        "# Загрузка токенизатора и модели\n",
        "llm_model_name = \"google/gemma-2b-it\"\n",
        "print(f\"Загрузка токенизатора для {llm_model_name}...\")"
      ]
    },
    {
      "cell_type": "markdown",
      "source": [],
      "metadata": {
        "id": "SuOpGr8qSM4I"
      }
    },
    {
      "cell_type": "markdown",
      "source": [
        "### Модель 'google/gemma-2b-it' является \"gated repo\" на Hugging Face. Для доступа к ней необходимо:\n",
        "1. Перейти на страницу модели на Hugging Face (https://huggingface.co/google/gemma-2b-it) и принять условия использования.\n",
        "2. Сгенерировать API токен в настройках Hugging Face (https://huggingface.co/settings/tokens).\n",
        "3. Добавить этот токен в секреты Colab с именем HF_TOKEN.\n",
        "4. Перезапустить сессию Colab (Runtime -> Restart session)."
      ],
      "metadata": {
        "id": "5K1795CJSAwq"
      }
    },
    {
      "cell_type": "code",
      "source": [
        "# # Загрузка токена из секретов Colab и установка его как переменной окружения для аутентификации при загрузке gated моделей с Hugging Face.\n",
        "# from google.colab import userdata\n",
        "# import os\n",
        "\n",
        "# hf_token = userdata.get('HF_TOKEN')\n",
        "# if hf_token:\n",
        "#     os.environ[\"HF_TOKEN\"] = hf_token\n",
        "#     print(\"Hugging Face token loaded from Colab secrets.\")\n",
        "#     if \"HF_TOKEN\" in os.environ:\n",
        "#         print(\"HF_TOKEN environment variable is set.\")\n",
        "# else:\n",
        "#     print(\"Hugging Face token not found in Colab secrets. Please add it as HF_TOKEN.\")\n",
        "#     print(\"HF_TOKEN environment variable is NOT set.\")\n",
        "\n",
        "\n",
        "# # tokenizer = AutoTokenizer.from_pretrained(llm_model_name)\n",
        "# # print(f\"Загрузка модели {llm_model_name} с 4-битной квантизацией...\")\n",
        "# # model_llm = AutoModelForCausalLM.from_pretrained(\n",
        "# #     llm_model_name,\n",
        "# #     quantization_config=nf4_config,\n",
        "# #     torch_dtype=torch.bfloat16,\n",
        "# #     device_map=\"auto\" # Автоматически распределяет модель по доступным устройствам (GPU/CPU)\n",
        "# # )\n",
        "# # print(\"Модель LLM загружена.\")\n",
        "\n",
        "# # Создание HuggingFace Pipeline для генерации текста\n",
        "# # Pass the model name string to the pipeline\n",
        "# text_generation_pipeline = pipeline(\n",
        "#     task=\"text-generation\", # Explicitly specify the task\n",
        "#     model=llm_model_name, # Pass the model name string\n",
        "#     # tokenizer=tokenizer, # Remove tokenizer argument when passing model name\n",
        "#     max_new_tokens=256, # Максимальное количество новых токенов в ответе\n",
        "#     do_sample=True,\n",
        "#     temperature=0.7,\n",
        "#     top_k=50,\n",
        "#     top_p=0.95,\n",
        "#     repetition_penalty=1.1, # Для предотвращения повторений\n",
        "#     model_kwargs={\"quantization_config\": nf4_config, \"torch_dtype\": torch.bfloat16} # Pass quantization config via model_kwargs\n",
        "# )\n",
        "# print(\"HuggingFace Pipeline для генерации текста настроен.\")\n",
        "\n",
        "\n",
        "# # Оборачиваем пайплайн в LangChain LLM\n",
        "# llm = HuggingFacePipeline(pipeline=text_generation_pipeline)\n",
        "# print(\"LLM-пайплайн для LangChain настроен.\")"
      ],
      "metadata": {
        "id": "3DOfH-A0SCS8"
      },
      "execution_count": 22,
      "outputs": []
    },
    {
      "cell_type": "markdown",
      "source": [
        "### Загружаем квантизировагнную модель LLM на доступное устройство, далее создаём пайплайн HuggingFace для генерации текста ответа."
      ],
      "metadata": {
        "id": "Q42rJ3nhUrbq"
      }
    },
    {
      "cell_type": "code",
      "execution_count": 22,
      "metadata": {
        "id": "v7cMsR0vVsGu"
      },
      "outputs": [],
      "source": []
    },
    {
      "cell_type": "code",
      "execution_count": 23,
      "metadata": {
        "id": "JYstlY4oQ1Pn",
        "outputId": "b5edb787-9cd1-4c01-d7b2-563180519019",
        "colab": {
          "base_uri": "https://localhost:8080/",
          "height": 150,
          "referenced_widgets": [
            "83df0e239cf24e81ac6a13e797b7cbbb",
            "ee69625209c64641beabdc0298454526",
            "20ebb9b21eb64a31b194340cd67b3618",
            "49574d71301141c482e3caae09c0f004",
            "3398c380bb9e4889949f4ac1fe512ce3",
            "26c89c2e6df54eab86b349a6a52a11de",
            "e05b27bf5dcf49e5bc8099aa92ca9252",
            "dd491766439b47408ef68cd95144fed4",
            "cda33e711e3746739354f90f60924ca4",
            "25bcd22a363c44e298be60c642aa82d4",
            "07d9495bce6c483781daf6bc8cb776db",
            "ed26243d1df2409b87aa58994b88a9d7",
            "9af1f0d2d1ae41f9ae04e05fdb5c4662",
            "8cd2a02c3d594538b77045e4e6261102",
            "8b0436cd19f440ddbea627de9ae3f9da",
            "10b029d66e84435d917bac5fa391b2f5",
            "58142960c8024a8c8786b4162cfac91e",
            "015937389f1d4662b85a9799edb314e9",
            "86124760e9434fa58b92682e4457970a",
            "8962eebb686d4fb1a1eca045f67f7322",
            "7183927e967f484695584b082d106028",
            "937a7ce7c044444e8de3bc8bc0fd0946"
          ]
        }
      },
      "outputs": [
        {
          "output_type": "stream",
          "name": "stdout",
          "text": [
            "Загрузка модели google/gemma-2b-it с 4-битной квантизацией...\n"
          ]
        },
        {
          "output_type": "display_data",
          "data": {
            "text/plain": [
              "Loading checkpoint shards:   0%|          | 0/2 [00:00<?, ?it/s]"
            ],
            "application/vnd.jupyter.widget-view+json": {
              "version_major": 2,
              "version_minor": 0,
              "model_id": "83df0e239cf24e81ac6a13e797b7cbbb"
            }
          },
          "metadata": {}
        },
        {
          "output_type": "display_data",
          "data": {
            "text/plain": [
              "Loading checkpoint shards:   0%|          | 0/2 [00:00<?, ?it/s]"
            ],
            "application/vnd.jupyter.widget-view+json": {
              "version_major": 2,
              "version_minor": 0,
              "model_id": "ed26243d1df2409b87aa58994b88a9d7"
            }
          },
          "metadata": {}
        },
        {
          "output_type": "stream",
          "name": "stderr",
          "text": [
            "Device set to use cuda:0\n"
          ]
        },
        {
          "output_type": "stream",
          "name": "stdout",
          "text": [
            "HuggingFace Pipeline для генерации текста настроен.\n",
            "LLM-пайплайн для LangChain настроен.\n"
          ]
        }
      ],
      "source": [
        "# Загружаем модель с Hugging Face.\n",
        "from google.colab import userdata\n",
        "import os\n",
        "\n",
        "hf_token = userdata.get('HF_TOKEN')\n",
        "if hf_token:\n",
        "    os.environ[\"HF_TOKEN\"] = hf_token\n",
        "else:\n",
        "    print(\"Токен Hugging Face не найден\")\n",
        "\n",
        "tokenizer = AutoTokenizer.from_pretrained(llm_model_name)\n",
        "print(f\"Загрузка модели {llm_model_name} с 4-битной квантизацией...\")\n",
        "model_llm = AutoModelForCausalLM.from_pretrained(\n",
        "    llm_model_name,\n",
        "    quantization_config=nf4_config,\n",
        "    torch_dtype=torch.bfloat16,\n",
        "    device_map=\"auto\") # Автозагрузка модели на доступное устройство (GPU/CPU)\n",
        "\n",
        "# Создание пайплайна\n",
        "text_generation_pipeline = pipeline(\n",
        "    task=\"text-generation\",\n",
        "    model=llm_model_name,\n",
        "    # tokenizer=tokenizer, # Remove tokenizer argument when passing model name\n",
        "    max_new_tokens=128, # Максимальное количество новых токенов в ответе\n",
        "    do_sample=True,\n",
        "    temperature=0.7,\n",
        "    top_k=65,\n",
        "    top_p=0.97,\n",
        "    repetition_penalty=1.1, # Для предотвращения повторений\n",
        "    model_kwargs={\"quantization_config\": nf4_config, \"torch_dtype\": torch.bfloat16} # передача конфигурации квантизации\n",
        ")\n",
        "print(\"HuggingFace Pipeline для генерации текста настроен.\")\n",
        "\n",
        "\n",
        "# Оборачиваем пайплайн в LangChain LLM\n",
        "llm = HuggingFacePipeline(pipeline=text_generation_pipeline)\n",
        "print(\"LLM-пайплайн для LangChain настроен.\")\n"
      ]
    },
    {
      "cell_type": "markdown",
      "source": [
        "### Конвейер RAG остоит из двух составляющих:\n",
        "\n",
        "### 1.  **Retrieval (Получение):** Извлечение на основе запроса пользователя релевантных текстовых фрагментов из базы знаний.\n",
        "### 2.  **Generation (Генерация):** Использование LLM для создания ответа, основываясь на извлеченном контексте.\n",
        "\n",
        "### Создаём промпт, инструктирующий LLM как ей необходимо отвечать на вопросы исходя из контекста, а также RAG-цепочку, связывающую векторный поиск с генерацией,  а также ретривер для извлечения релевантного контента из векторной базы данных (задаётся количество выдаваемых единиц контента).\n",
        "\n",
        "\n",
        "# Порядок операций в RAG-цепочке\n",
        "### 1. Получение вопроса\n",
        "### 2. Передаем вопроса ретриверу для извлечения контекста\n",
        "### 3. Формирование промпта с контекстом и вопросом\n",
        "### 4. Передача промпта в LLM для генерации ответа\n",
        "### 5. Парсинг выводимого LLM текста в строку"
      ],
      "metadata": {
        "id": "VsBZL1kDw_lT"
      }
    },
    {
      "cell_type": "code",
      "source": [],
      "metadata": {
        "id": "8EK7xkGByNYf"
      },
      "execution_count": 23,
      "outputs": []
    },
    {
      "cell_type": "code",
      "execution_count": 24,
      "metadata": {
        "id": "MkJ9VirhTxFm",
        "outputId": "8ad67a2b-dc59-4964-9b72-247899190cfd",
        "colab": {
          "base_uri": "https://localhost:8080/"
        }
      },
      "outputs": [
        {
          "output_type": "stream",
          "name": "stdout",
          "text": [
            "Конвейер RAG успешно настроен.\n"
          ]
        }
      ],
      "source": [
        "# Промпт\n",
        "template = \"\"\"Используй следующий контекст, чтобы ответить на вопрос пользователя.\n",
        "Если ты не знаешь ответа, просто скажи, что не можешь найти информацию в предоставленном контексте.\n",
        "Не придумывай ответ если не знаешь.\n",
        "\n",
        "Контекст:\n",
        "{context}\n",
        "\n",
        "Вопрос: {question}\n",
        "\n",
        "Ответ:\"\"\"\n",
        "\n",
        "RAG_PROMPT_TEMPLATE = PromptTemplate.from_template(template)\n",
        "\n",
        "# Создание RAG-цепочки (LangChain)\n",
        "from langchain_core.runnables import RunnablePassthrough, RunnableLambda\n",
        "from langchain_core.output_parsers import StrOutputParser\n",
        "\n",
        "# Создаем ретривер из векторного хранилища\n",
        "retriever = vector_store.as_retriever(search_kwargs={\"k\": 30})\n",
        "\n",
        "rag_chain = (\n",
        "    {\"context\": retriever, \"question\": RunnablePassthrough()}\n",
        "\n",
        "| RAG_PROMPT_TEMPLATE\n",
        "| llm\n",
        "| StrOutputParser()\n",
        ")\n",
        "\n",
        "print(\"Конвейер RAG успешно настроен.\")"
      ]
    },
    {
      "cell_type": "markdown",
      "source": [
        "### Мы построили RAG систему. Самое время исппытать её и посмотреть что у нас получилось."
      ],
      "metadata": {
        "id": "_wyvs0S89uca"
      }
    },
    {
      "cell_type": "code",
      "execution_count": 25,
      "metadata": {
        "id": "vYkrYiYn2HEi",
        "outputId": "5bf7d7ca-c5ad-4b6a-88b2-82d36f6d0437",
        "colab": {
          "base_uri": "https://localhost:8080/"
        }
      },
      "outputs": [
        {
          "output_type": "stream",
          "name": "stdout",
          "text": [
            "\n",
            "--- Тестирование RAG-системы ---\n",
            "Вопрос: Why James decided to runaway?\n",
            "Ответ: Используй следующий контекст, чтобы ответить на вопрос пользователя. \n",
            "Если ты не знаешь ответа, просто скажи, что не можешь найти информацию в предоставленном контексте.\n",
            " Не придумывай ответ если не знаешь.\n",
            "\n",
            "Контекст:\n",
            "[Document(id='70cd6f95-bf1f-4fa5-8caa-f04461171519', metadata={'source': 'your_source'}, page_content='12:15 And they said unto her, Thou art mad. But she constantly\\r\\naffirmed that it was even so. Then said they, It is his angel.\\r\\n\\r\\n12:16 But Peter continued knocking: and when they had opened the door,\\r\\nand saw him, they were astonished.\\r\\n\\r\\n12:17 But he, beckoning unto them with the hand to hold their peace,\\r\\ndeclared unto them how the Lord had brought him out of the prison. And\\r\\nhe said, Go shew these things unto James, and to the brethren. And he\\r\\ndeparted, and went into another place.'), Document(id='77384891-e5b2-4c1b-b2f3-0ba584da861d', metadata={'source': 'your_source'}, page_content='James the son of Alphaeus, and Thaddaeus, and Simon the Canaanite,\\r\\n3:19 And Judas Iscariot, which also betrayed him: and they went into\\r\\nan house.\\r\\n\\r\\n3:20 And the multitude cometh together again, so that they could not\\r\\nso much as eat bread.\\r\\n\\r\\n3:21 And when his friends heard of it, they went out to lay hold on\\r\\nhim: for they said, He is beside himself.\\r\\n\\r\\n3:22 And the scribes which came down from Jerusalem said, He hath\\r\\nBeelzebub, and by the prince of the devils casteth he out devils.'), Document(id='a9ea6a2d-8b00-4fd1-ad97-329124aba8b7', metadata={'source': 'your_source'}, page_content='declared unto them how the Lord had brought him out of the prison. And\\r\\nhe said, Go shew these things unto James, and to the brethren. And he\\r\\ndeparted, and went into another place.\\r\\n\\r\\n12:18 Now as soon as it was day, there was no small stir among the\\r\\nsoldiers, what was become of Peter.\\r\\n\\r\\n12:19 And when Herod had sought for him, and found him not, he\\r\\nexamined the keepers, and commanded that they should be put to death.\\r\\nAnd he went down from Judaea to Caesarea, and there abode.'), Document(id='d62906b5-7bfb-43d3-afc4-e4b69cb71de4', metadata={'source': 'your_source'}, page_content='his host, with the edge of the sword before Barak; so that Sisera\\r\\nlighted down off his chariot, and fled away on his feet.\\r\\n\\r\\n4:16 But Barak pursued after the chariots, and after the host, unto\\r\\nHarosheth of the Gentiles: and all the host of Sisera fell upon the\\r\\nedge of the sword; and there was not a man left.\\r\\n\\r\\n4:17 Howbeit Sisera fled away on his feet to the tent of Jael the wife\\r\\nof Heber the Kenite: for there was peace between Jabin the king of\\r\\nHazor and the house of Heber the Kenite.'), Document(id='fbdee2b0-0154-405a-a003-346745f870fb', metadata={'source': 'your_source'}, page_content='he so cried out, and gave up the ghost, he said, Truly this man was\\r\\nthe Son of God.\\r\\n\\r\\n15:40 There were also women looking on afar off: among whom was Mary\\r\\nMagdalene, and Mary the mother of James the less and of Joses, and\\r\\nSalome; 15:41 (Who also, when he was in Galilee, followed him, and\\r\\nministered unto him;) and many other women which came up with him unto\\r\\nJerusalem.\\r\\n\\r\\n15:42 And now when the even was come, because it was the preparation,'), Document(id='b6725820-a71f-4a16-8e3c-a9449a12cf86', metadata={'source': 'your_source'}, page_content='14:39 For, as the LORD liveth, which saveth Israel, though it be in\\r\\nJonathan my son, he shall surely die. But there was not a man among\\r\\nall the people that answered him.\\r\\n\\r\\n14:40 Then said he unto all Israel, Be ye on one side, and I and\\r\\nJonathan my son will be on the other side. And the people said unto\\r\\nSaul, Do what seemeth good unto thee.\\r\\n\\r\\n14:41 Therefore Saul said unto the LORD God of Israel, Give a perfect\\r\\nlot.\\r\\n\\r\\nAnd Saul and Jonathan were taken: but the people escaped.'), Document(id='3ef749ba-6c40-4bad-9ac7-add1ac105b95', metadata={'source': 'your_source'}, page_content='end of the rod that was in mine hand, and, lo, I must die.\\r\\n\\r\\n14:44 And Saul answered, God do so and more also: for thou shalt\\r\\nsurely die, Jonathan.\\r\\n\\r\\n14:45 And the people said unto Saul, Shall Jonathan die, who hath\\r\\nwrought this great salvation in Israel? God forbid: as the LORD\\r\\nliveth, there shall not one hair of his head fall to the ground; for\\r\\nhe hath wrought with God this day. So the people rescued Jonathan,\\r\\nthat he died not.'), Document(id='ac436b96-0f5b-4363-96eb-33bedd01288b', metadata={'source': 'your_source'}, page_content='thou hast chosen the son of Jesse to thine own confusion, and unto the\\r\\nconfusion of thy mother’s nakedness? 20:31 For as long as the son of\\r\\nJesse liveth upon the ground, thou shalt not be established, nor thy\\r\\nkingdom. Wherefore now send and fetch him unto me, for he shall surely\\r\\ndie.\\r\\n\\r\\n20:32 And Jonathan answered Saul his father, and said unto him,\\r\\nWherefore shall he be slain? what hath he done? 20:33 And Saul cast a\\r\\njavelin at him to smite him: whereby Jonathan knew that it was'), Document(id='d8464582-5be7-4aad-bc5e-aa27bc034a6e', metadata={'source': 'your_source'}, page_content='to Caleb the son of Jephunneh for his possession.\\r\\n\\r\\n21:13 Thus they gave to the children of Aaron the priest Hebron with\\r\\nher suburbs, to be a city of refuge for the slayer; and Libnah with\\r\\nher suburbs, 21:14 And Jattir with her suburbs, and Eshtemoa with her\\r\\nsuburbs, 21:15 And Holon with her suburbs, and Debir with her suburbs,\\r\\n21:16 And Ain with her suburbs, and Juttah with her suburbs, and\\r\\nBethshemesh with her suburbs; nine cities out of those two tribes.'), Document(id='ad9a800d-674f-40a7-9fab-961ab45dad71', metadata={'source': 'your_source'}, page_content='John the brother of James.\\r\\n\\r\\n5:38 And he cometh to the house of the ruler of the synagogue, and\\r\\nseeth the tumult, and them that wept and wailed greatly.\\r\\n\\r\\n5:39 And when he was come in, he saith unto them, Why make ye this\\r\\nado, and weep? the damsel is not dead, but sleepeth.\\r\\n\\r\\n5:40 And they laughed him to scorn. But when he had put them all out,\\r\\nhe taketh the father and the mother of the damsel, and them that were\\r\\nwith him, and entereth in where the damsel was lying.'), Document(id='65ab020f-a8df-40a6-9683-7ddd5e6739b5', metadata={'source': 'your_source'}, page_content='4:22 And, behold, as Barak pursued Sisera, Jael came out to meet him,\\r\\nand said unto him, Come, and I will shew thee the man whom thou\\r\\nseekest. And when he came into her tent, behold, Sisera lay dead, and\\r\\nthe nail was in his temples.\\r\\n\\r\\n4:23 So God subdued on that day Jabin the king of Canaan before the\\r\\nchildren of Israel.\\r\\n\\r\\n4:24 And the hand of the children of Israel prospered, and prevailed\\r\\nagainst Jabin the king of Canaan, until they had destroyed Jabin king\\r\\nof Canaan.'), Document(id='6a487e66-2d47-43fa-9ba8-23385899eef0', metadata={'source': 'your_source'}, page_content='And that he was buried, and that he rose again the third day according\\r\\nto the scriptures: 15:5 And that he was seen of Cephas, then of the\\r\\ntwelve: 15:6 After that, he was seen of above five hundred brethren at\\r\\nonce; of whom the greater part remain unto this present, but some are\\r\\nfallen asleep.\\r\\n\\r\\n15:7 After that, he was seen of James; then of all the apostles.\\r\\n\\r\\n15:8 And last of all he was seen of me also, as of one born out of due\\r\\ntime.'), Document(id='e64be624-de5e-4a4b-b72f-dc19ded598d4', metadata={'source': 'your_source'}, page_content='Jonathan my son will be on the other side. And the people said unto\\r\\nSaul, Do what seemeth good unto thee.\\r\\n\\r\\n14:41 Therefore Saul said unto the LORD God of Israel, Give a perfect\\r\\nlot.\\r\\n\\r\\nAnd Saul and Jonathan were taken: but the people escaped.\\r\\n\\r\\n14:42 And Saul said, Cast lots between me and Jonathan my son. And\\r\\nJonathan was taken.\\r\\n\\r\\n14:43 Then Saul said to Jonathan, Tell me what thou hast done. And\\r\\nJonathan told him, and said, I did but taste a little honey with the'), Document(id='d07f4f48-60aa-4f34-8c9c-b1b7e6241dc1', metadata={'source': 'your_source'}, page_content='LORD chosen this.\\r\\n\\r\\n16:10 Again, Jesse made seven of his sons to pass before Samuel. And\\r\\nSamuel said unto Jesse, The LORD hath not chosen these.\\r\\n\\r\\n16:11 And Samuel said unto Jesse, Are here all thy children? And he\\r\\nsaid, There remaineth yet the youngest, and, behold, he keepeth the\\r\\nsheep. And Samuel said unto Jesse, Send and fetch him: for we will not\\r\\nsit down till he come hither.\\r\\n\\r\\n16:12 And he sent, and brought him in. Now he was ruddy, and withal of'), Document(id='4bce067b-ebb2-424c-b698-e4e11efbea77', metadata={'source': 'your_source'}, page_content='until this day.) 4:4 And Jonathan, Saul’s son, had a son that was\\r\\nlame of his feet. He was five years old when the tidings came of Saul\\r\\nand Jonathan out of Jezreel, and his nurse took him up, and fled: and\\r\\nit came to pass, as she made haste to flee, that he fell, and became\\r\\nlame. And his name was Mephibosheth.\\r\\n\\r\\n4:5 And the sons of Rimmon the Beerothite, Rechab and Baanah, went,\\r\\nand came about the heat of the day to the house of Ishbosheth, who lay\\r\\non a bed at noon.'), Document(id='a89e0e3d-edef-47fe-aaef-cdf0ff185d63', metadata={'source': 'your_source'}, page_content='1:19 And when he had gone a little farther thence, he saw James the\\r\\nson of Zebedee, and John his brother, who also were in the ship\\r\\nmending their nets.\\r\\n\\r\\n1:20 And straightway he called them: and they left their father\\r\\nZebedee in the ship with the hired servants, and went after him.\\r\\n\\r\\n1:21 And they went into Capernaum; and straightway on the sabbath day\\r\\nhe entered into the synagogue, and taught.\\r\\n\\r\\n1:22 And they were astonished at his doctrine: for he taught them as'), Document(id='5f8bb767-6b34-4431-b408-defc7e232187', metadata={'source': 'your_source'}, page_content='16:25 And at midnight Paul and Silas prayed, and sang praises unto\\r\\nGod: and the prisoners heard them.\\r\\n\\r\\n16:26 And suddenly there was a great earthquake, so that the\\r\\nfoundations of the prison were shaken: and immediately all the doors\\r\\nwere opened, and every one’s bands were loosed.\\r\\n\\r\\n16:27 And the keeper of the prison awaking out of his sleep, and\\r\\nseeing the prison doors open, he drew out his sword, and would have\\r\\nkilled himself, supposing that the prisoners had been fled.'), Document(id='812edab9-1be9-41b2-80c9-38372be8a3b4', metadata={'source': 'your_source'}, page_content='31:19 And Laban went to shear his sheep: and Rachel had stolen the\\r\\nimages that were her father’s.\\r\\n\\r\\n31:20 And Jacob stole away unawares to Laban the Syrian, in that he\\r\\ntold him not that he fled.\\r\\n\\r\\n31:21 So he fled with all that he had; and he rose up, and passed over\\r\\nthe river, and set his face toward the mount Gilead.\\r\\n\\r\\n31:22 And it was told Laban on the third day that Jacob was fled.\\r\\n\\r\\n31:23 And he took his brethren with him, and pursued after him seven'), Document(id='590e6d16-5183-449f-9572-a9ba0914bf7d', metadata={'source': 'your_source'}, page_content='wrought this great salvation in Israel? God forbid: as the LORD\\r\\nliveth, there shall not one hair of his head fall to the ground; for\\r\\nhe hath wrought with God this day. So the people rescued Jonathan,\\r\\nthat he died not.\\r\\n\\r\\n14:46 Then Saul went up from following the Philistines: and the\\r\\nPhilistines went to their own place.\\r\\n\\r\\n14:47 So Saul took the kingdom over Israel, and fought against all his\\r\\nenemies on every side, against Moab, and against the children of'), Document(id='298652a1-bd0c-424b-a4f6-55d1bce202c9', metadata={'source': 'your_source'}, page_content='made an end of dividing the country.\\r\\n\\r\\n20:1 The LORD also spake unto Joshua, saying, 20:2 Speak to the\\r\\nchildren of Israel, saying, Appoint out for you cities of refuge,\\r\\nwhereof I spake unto you by the hand of Moses: 20:3 That the slayer\\r\\nthat killeth any person unawares and unwittingly may flee thither: and\\r\\nthey shall be your refuge from the avenger of blood.\\r\\n\\r\\n20:4 And when he that doth flee unto one of those cities shall stand'), Document(id='43ea4794-c88c-4609-b81a-7e19e1370f9d', metadata={'source': 'your_source'}, page_content='sicknesses, and to cast out devils: 3:16 And Simon he surnamed Peter;\\r\\n3:17 And James the son of Zebedee, and John the brother of James; and\\r\\nhe surnamed them Boanerges, which is, The sons of thunder: 3:18 And\\r\\nAndrew, and Philip, and Bartholomew, and Matthew, and Thomas, and\\r\\nJames the son of Alphaeus, and Thaddaeus, and Simon the Canaanite,\\r\\n3:19 And Judas Iscariot, which also betrayed him: and they went into\\r\\nan house.\\r\\n\\r\\n3:20 And the multitude cometh together again, so that they could not'), Document(id='102a33be-8043-4a55-a5e4-d49077c31cbc', metadata={'source': 'your_source'}, page_content='31:26 And Laban said to Jacob, What hast thou done, that thou hast\\r\\nstolen away unawares to me, and carried away my daughters, as captives\\r\\ntaken with the sword? 31:27 Wherefore didst thou flee away secretly,\\r\\nand steal away from me; and didst not tell me, that I might have sent\\r\\nthee away with mirth, and with songs, with tabret, and with harp?\\r\\n31:28 And hast not suffered me to kiss my sons and my daughters? thou\\r\\nhast now done foolishly in so doing.'), Document(id='c1c315a4-948f-4b6e-a23e-6005ad2a9b1e', metadata={'source': 'your_source'}, page_content='sword, and took Dinah out of Shechem’s house, and went out.\\r\\n\\r\\n34:27 The sons of Jacob came upon the slain, and spoiled the city,\\r\\nbecause they had defiled their sister.\\r\\n\\r\\n34:28 They took their sheep, and their oxen, and their asses, and that\\r\\nwhich was in the city, and that which was in the field, 34:29 And all\\r\\ntheir wealth, and all their little ones, and their wives took they\\r\\ncaptive, and spoiled even all that was in the house.'), Document(id='54059276-af16-4982-a070-b0af98bf1de2', metadata={'source': 'your_source'}, page_content='that killeth any person unawares and unwittingly may flee thither: and\\r\\nthey shall be your refuge from the avenger of blood.\\r\\n\\r\\n20:4 And when he that doth flee unto one of those cities shall stand\\r\\nat the entering of the gate of the city, and shall declare his cause\\r\\nin the ears of the elders of that city, they shall take him into the\\r\\ncity unto them, and give him a place, that he may dwell among them.\\r\\n\\r\\n20:5 And if the avenger of blood pursue after him, then they shall not'), Document(id='c84190a5-d295-4020-bc1c-27cc88d688d2', metadata={'source': 'your_source'}, page_content='because he was nigh to Jerusalem, and because they thought that the\\r\\nkingdom of God should immediately appear.\\r\\n\\r\\n19:12 He said therefore, A certain nobleman went into a far country to\\r\\nreceive for himself a kingdom, and to return.\\r\\n\\r\\n19:13 And he called his ten servants, and delivered them ten pounds,\\r\\nand said unto them, Occupy till I come.\\r\\n\\r\\n19:14 But his citizens hated him, and sent a message after him,\\r\\nsaying, We will not have this man to reign over us.'), Document(id='c1acfedd-515e-43e9-861d-20c53a77b3de', metadata={'source': 'your_source'}, page_content='favour in thine eyes, let me get away, I pray thee, and see my\\r\\nbrethren. Therefore he cometh not unto the king’s table.\\r\\n\\r\\n20:30 Then Saul’s anger was kindled against Jonathan, and he said unto\\r\\nhim, Thou son of the perverse rebellious woman, do not I know that\\r\\nthou hast chosen the son of Jesse to thine own confusion, and unto the\\r\\nconfusion of thy mother’s nakedness? 20:31 For as long as the son of\\r\\nJesse liveth upon the ground, thou shalt not be established, nor thy'), Document(id='9c8f06ef-9d23-487a-9bb0-9951c64a0f4e', metadata={'source': 'your_source'}, page_content='And when James, Cephas, and John, who seemed to be pillars, perceived\\r\\nthe grace that was given unto me, they gave to me and Barnabas the\\r\\nright hands of fellowship; that we should go unto the heathen, and\\r\\nthey unto the circumcision.\\r\\n\\r\\n2:10 Only they would that we should remember the poor; the same which\\r\\nI also was forward to do.\\r\\n\\r\\n2:11 But when Peter was come to Antioch, I withstood him to the face,\\r\\nbecause he was to be blamed.'), Document(id='9b44f6a3-eddd-46e9-9575-6ba17cd9f7e8', metadata={'source': 'your_source'}, page_content='departed out of Keilah, and went whithersoever they could go. And it\\r\\nwas told Saul that David was escaped from Keilah; and he forbare to go\\r\\nforth.\\r\\n\\r\\n23:14 And David abode in the wilderness in strong holds, and remained\\r\\nin a mountain in the wilderness of Ziph. And Saul sought him every\\r\\nday, but God delivered him not into his hand.\\r\\n\\r\\n23:15 And David saw that Saul was come out to seek his life: and David\\r\\nwas in the wilderness of Ziph in a wood.'), Document(id='89412f87-81b1-45b4-9234-28feb1745eee', metadata={'source': 'your_source'}, page_content='he fell from off the seat backward by the side of the gate, and his\\r\\nneck brake, and he died: for he was an old man, and heavy. And he had\\r\\njudged Israel forty years.\\r\\n\\r\\n4:19 And his daughter in law, Phinehas’ wife, was with child, near to\\r\\nbe delivered: and when she heard the tidings that the ark of God was\\r\\ntaken, and that her father in law and her husband were dead, she bowed\\r\\nherself and travailed; for her pains came upon her.'), Document(id='d70d4283-de4f-40f5-8743-46c07c16c388', metadata={'source': 'your_source'}, page_content='unwittingly, and hated him not beforetime.\\r\\n\\r\\n20:6 And he shall dwell in that city, until he stand before the\\r\\ncongregation for judgment, and until the death of the high priest that\\r\\nshall be in those days: then shall the slayer return, and come unto\\r\\nhis own city, and unto his own house, unto the city from whence he\\r\\nfled.\\r\\n\\r\\n20:7 And they appointed Kedesh in Galilee in mount Naphtali, and\\r\\nShechem in mount Ephraim, and Kirjatharba, which is Hebron, in the\\r\\nmountain of Judah.')]\n",
            "\n",
            "Вопрос: Why James decided to runaway?\n",
            "\n",
            "Ответ: and the others, and\\n in the only one of the rest.\n",
            "5e, and scored.\n",
            "\n",
            "The context.\n",
            "\n",
            "This is a few, I can't the context', 'not a c, and the answer.\n",
            "\n",
            "**\n",
            "--------------------------------------------------\n",
            "Вопрос: What were the names of Adam's' sons?\n",
            "Ответ: Используй следующий контекст, чтобы ответить на вопрос пользователя. \n",
            "Если ты не знаешь ответа, просто скажи, что не можешь найти информацию в предоставленном контексте.\n",
            " Не придумывай ответ если не знаешь.\n",
            "\n",
            "Контекст:\n",
            "[Document(id='f880aa03-b395-4b92-89f2-39d674c1c4dc', metadata={'source': 'your_source'}, page_content='Eliakim, 3:31 Which was the son of Melea, which was the son of Menan,\\r\\nwhich was the son of Mattatha, which was the son of Nathan, which was\\r\\nthe son of David, 3:32 Which was the son of Jesse, which was the son\\r\\nof Obed, which was the son of Booz, which was the son of Salmon, which\\r\\nwas the son of Naasson, 3:33 Which was the son of Aminadab, which was\\r\\nthe son of Aram, which was the son of Esrom, which was the son of\\r\\nPhares, which was the son of Juda, 3:34 Which was the son of Jacob,'), Document(id='ba721b48-dedc-4637-ace3-c0a6ad4ac35c', metadata={'source': 'your_source'}, page_content='1:1 Adam, Sheth, Enosh, 1:2 Kenan, Mahalaleel, Jered, 1:3 Henoch,\\r\\nMethuselah, Lamech, 1:4 Noah, Shem, Ham, and Japheth.\\r\\n\\r\\n1:5 The sons of Japheth; Gomer, and Magog, and Madai, and Javan, and\\r\\nTubal, and Meshech, and Tiras.\\r\\n\\r\\n1:6 And the sons of Gomer; Ashchenaz, and Riphath, and Togarmah.\\r\\n\\r\\n1:7 And the sons of Javan; Elishah, and Tarshish, Kittim, and Dodanim.\\r\\n\\r\\n1:8 The sons of Ham; Cush, and Mizraim, Put, and Canaan.'), Document(id='54a68faf-ef2a-43e1-ad3b-1fd5a4f293f8', metadata={'source': 'your_source'}, page_content='whose name was Jesse; and he had eight sons: and the man went among\\r\\nmen for an old man in the days of Saul.\\r\\n\\r\\n17:13 And the three eldest sons of Jesse went and followed Saul to the\\r\\nbattle: and the names of his three sons that went to the battle were\\r\\nEliab the firstborn, and next unto him Abinadab, and the third\\r\\nShammah.\\r\\n\\r\\n17:14 And David was the youngest: and the three eldest followed Saul.\\r\\n\\r\\n17:15 But David went and returned from Saul to feed his father’s sheep\\r\\nat Bethlehem.'), Document(id='1b37737b-37f1-488b-be13-c70567e8ab54', metadata={'source': 'your_source'}, page_content='4:17 And Cain knew his wife; and she conceived, and bare Enoch: and he\\r\\nbuilded a city, and called the name of the city, after the name of his\\r\\nson, Enoch.\\r\\n\\r\\n4:18 And unto Enoch was born Irad: and Irad begat Mehujael: and\\r\\nMehujael begat Methusael: and Methusael begat Lamech.\\r\\n\\r\\n4:19 And Lamech took unto him two wives: the name of the one was Adah,\\r\\nand the name of the other Zillah.\\r\\n\\r\\n4:20 And Adah bare Jabal: he was the father of such as dwell in tents,\\r\\nand of such as have cattle.'), Document(id='94d4cfae-33e5-4a3a-a5e4-2b467276fe4e', metadata={'source': 'your_source'}, page_content='of the one was Baanah, and the name of the other Rechab, the sons of\\r\\nRimmon a Beerothite, of the children of Benjamin: (for Beeroth also\\r\\nwas reckoned to Benjamin.\\r\\n\\r\\n4:3 And the Beerothites fled to Gittaim, and were sojourners there\\r\\nuntil this day.) 4:4 And Jonathan, Saul’s son, had a son that was\\r\\nlame of his feet. He was five years old when the tidings came of Saul\\r\\nand Jonathan out of Jezreel, and his nurse took him up, and fled: and'), Document(id='0041008c-04b6-411f-ab40-0030e5c67576', metadata={'source': 'your_source'}, page_content='day when they were created.\\r\\n\\r\\n5:3 And Adam lived an hundred and thirty years, and begat a son in his\\r\\nown likeness, and after his image; and called his name Seth: 5:4 And\\r\\nthe days of Adam after he had begotten Seth were eight hundred years:\\r\\nand he begat sons and daughters: 5:5 And all the days that Adam lived\\r\\nwere nine hundred and thirty years: and he died.\\r\\n\\r\\n5:6 And Seth lived an hundred and five years, and begat Enos: 5:7 And'), Document(id='5d25c15b-eebf-4b29-a3ea-1373b8c12cd0', metadata={'source': 'your_source'}, page_content='Tubal, and Meshech, and Tiras.\\r\\n\\r\\n1:6 And the sons of Gomer; Ashchenaz, and Riphath, and Togarmah.\\r\\n\\r\\n1:7 And the sons of Javan; Elishah, and Tarshish, Kittim, and Dodanim.\\r\\n\\r\\n1:8 The sons of Ham; Cush, and Mizraim, Put, and Canaan.\\r\\n\\r\\n1:9 And the sons of Cush; Seba, and Havilah, and Sabta, and Raamah,\\r\\nand Sabtecha. And the sons of Raamah; Sheba, and Dedan.\\r\\n\\r\\n1:10 And Cush begat Nimrod: he began to be mighty upon the earth.'), Document(id='0570cc65-6b8e-481a-ad56-0ff905baf326', metadata={'source': 'your_source'}, page_content='8:39 And the sons of Eshek his brother were, Ulam his firstborn,\\r\\nJehush the second, and Eliphelet the third.\\r\\n\\r\\n8:40 And the sons of Ulam were mighty men of valour, archers, and had\\r\\nmany sons, and sons’ sons, an hundred and fifty. All these are of the\\r\\nsons of Benjamin.\\r\\n\\r\\n9:1 So all Israel were reckoned by genealogies; and, behold, they were\\r\\nwritten in the book of the kings of Israel and Judah, who were carried\\r\\naway to Babylon for their transgression.'), Document(id='fb2365ab-b4ec-4987-a822-1b4a91fb2a5e', metadata={'source': 'your_source'}, page_content='Sem, which was the son of Noe, which was the son of Lamech, 3:37 Which\\r\\nwas the son of Mathusala, which was the son of Enoch, which was the\\r\\nson of Jared, which was the son of Maleleel, which was the son of\\r\\nCainan, 3:38 Which was the son of Enos, which was the son of Seth,\\r\\nwhich was the son of Adam, which was the son of God.\\r\\n\\r\\n4:1 And Jesus being full of the Holy Ghost returned from Jordan, and\\r\\nwas led by the Spirit into the wilderness, 4:2 Being forty days'), Document(id='6f90d861-2ede-435e-b3f2-4991a45eaade', metadata={'source': 'your_source'}, page_content='forward, every one after their families, according to the house of\\r\\ntheir fathers.\\r\\n\\r\\n3:1 These also are the generations of Aaron and Moses in the day that\\r\\nthe LORD spake with Moses in mount Sinai.\\r\\n\\r\\n3:2 And these are the names of the sons of Aaron; Nadab the firstborn,\\r\\nand Abihu, Eleazar, and Ithamar.\\r\\n\\r\\n3:3 These are the names of the sons of Aaron, the priests which were\\r\\nanointed, whom he consecrated to minister in the priest’s office.'), Document(id='8bf1ecf0-fb3c-4218-a11d-ff1ee186a94d', metadata={'source': 'your_source'}, page_content='the son of Thara, which was the son of Nachor, 3:35 Which was the son\\r\\nof Saruch, which was the son of Ragau, which was the son of Phalec,\\r\\nwhich was the son of Heber, which was the son of Sala, 3:36 Which was\\r\\nthe son of Cainan, which was the son of Arphaxad, which was the son of\\r\\nSem, which was the son of Noe, which was the son of Lamech, 3:37 Which\\r\\nwas the son of Mathusala, which was the son of Enoch, which was the\\r\\nson of Jared, which was the son of Maleleel, which was the son of'), Document(id='4e43b602-1357-46b1-8f79-5a74c8c9c278', metadata={'source': 'your_source'}, page_content='name Seth: For God, said she, hath appointed me another seed instead\\r\\nof Abel, whom Cain slew.\\r\\n\\r\\n4:26 And to Seth, to him also there was born a son; and he called his\\r\\nname Enos: then began men to call upon the name of the LORD.\\r\\n\\r\\n5:1 This is the book of the generations of Adam. In the day that God\\r\\ncreated man, in the likeness of God made he him; 5:2 Male and female\\r\\ncreated he them; and blessed them, and called their name Adam, in the\\r\\nday when they were created.'), Document(id='253f9e41-d432-47b5-a760-6c375ff909e6', metadata={'source': 'your_source'}, page_content='and Jokshan, and Medan, and Midian, and Ishbak, and Shuah. And the\\r\\nsons of Jokshan; Sheba, and Dedan.\\r\\n\\r\\n1:33 And the sons of Midian; Ephah, and Epher, and Henoch, and Abida,\\r\\nand Eldaah. All these are the sons of Keturah.\\r\\n\\r\\n1:34 And Abraham begat Isaac. The sons of Isaac; Esau and Israel.\\r\\n\\r\\n1:35 The sons of Esau; Eliphaz, Reuel, and Jeush, and Jaalam, and\\r\\nKorah.\\r\\n\\r\\n1:36 The sons of Eliphaz; Teman, and Omar, Zephi, and Gatam, Kenaz,\\r\\nand Timna, and Amalek.'), Document(id='395dab60-20f7-4ae0-809e-71c8ad59b633', metadata={'source': 'your_source'}, page_content='and he begat sons and daughters: 5:5 And all the days that Adam lived\\r\\nwere nine hundred and thirty years: and he died.\\r\\n\\r\\n5:6 And Seth lived an hundred and five years, and begat Enos: 5:7 And\\r\\nSeth lived after he begat Enos eight hundred and seven years, and\\r\\nbegat sons and daughters: 5:8 And all the days of Seth were nine\\r\\nhundred and twelve years: and he died.\\r\\n\\r\\n5:9 And Enos lived ninety years, and begat Cainan: 5:10 And Enos lived'), Document(id='f1388982-1e79-45ab-b4a4-ee3b68a3c3df', metadata={'source': 'your_source'}, page_content='ye wives of Lamech, hearken unto my speech: for I have slain a man to\\r\\nmy wounding, and a young man to my hurt.\\r\\n\\r\\n4:24 If Cain shall be avenged sevenfold, truly Lamech seventy and\\r\\nsevenfold.\\r\\n\\r\\n4:25 And Adam knew his wife again; and she bare a son, and called his\\r\\nname Seth: For God, said she, hath appointed me another seed instead\\r\\nof Abel, whom Cain slew.\\r\\n\\r\\n4:26 And to Seth, to him also there was born a son; and he called his\\r\\nname Enos: then began men to call upon the name of the LORD.'), Document(id='32b602d8-c7b7-4590-abaa-a087bd8c0f68', metadata={'source': 'your_source'}, page_content='4:3 And these were of the father of Etam; Jezreel, and Ishma, and\\r\\nIdbash: and the name of their sister was Hazelelponi: 4:4 And Penuel\\r\\nthe father of Gedor, and Ezer the father of Hushah. These are the sons\\r\\nof Hur, the firstborn of Ephratah, the father of Bethlehem.\\r\\n\\r\\n4:5 And Ashur the father of Tekoa had two wives, Helah and Naarah.\\r\\n\\r\\n4:6 And Naarah bare him Ahuzam, and Hepher, and Temeni, and\\r\\nHaahashtari.\\r\\n\\r\\nThese were the sons of Naarah.'), Document(id='3b1c6b0e-72c1-4dfb-9fc7-2d134fa50f7b', metadata={'source': 'your_source'}, page_content='3:2 And these are the names of the sons of Aaron; Nadab the firstborn,\\r\\nand Abihu, Eleazar, and Ithamar.\\r\\n\\r\\n3:3 These are the names of the sons of Aaron, the priests which were\\r\\nanointed, whom he consecrated to minister in the priest’s office.\\r\\n\\r\\n3:4 And Nadab and Abihu died before the LORD, when they offered\\r\\nstrange fire before the LORD, in the wilderness of Sinai, and they had\\r\\nno children: and Eleazar and Ithamar ministered in the priest’s office\\r\\nin the sight of Aaron their father.'), Document(id='e630e68f-9be4-4ce0-85d5-d4b73b7952d5', metadata={'source': 'your_source'}, page_content='1:34 And Abraham begat Isaac. The sons of Isaac; Esau and Israel.\\r\\n\\r\\n1:35 The sons of Esau; Eliphaz, Reuel, and Jeush, and Jaalam, and\\r\\nKorah.\\r\\n\\r\\n1:36 The sons of Eliphaz; Teman, and Omar, Zephi, and Gatam, Kenaz,\\r\\nand Timna, and Amalek.\\r\\n\\r\\n1:37 The sons of Reuel; Nahath, Zerah, Shammah, and Mizzah.\\r\\n\\r\\n1:38 And the sons of Seir; Lotan, and Shobal, and Zibeon, and Anah,\\r\\nand Dishon, and Ezar, and Dishan.\\r\\n\\r\\n1:39 And the sons of Lotan; Hori, and Homam: and Timna was Lotan’s\\r\\nsister.'), Document(id='47d3487d-1f1a-4496-a457-9d080c83c709', metadata={'source': 'your_source'}, page_content='Abidan the son of Gideoni.\\r\\n\\r\\n10:25 And the standard of the camp of the children of Dan set forward,\\r\\nwhich was the rereward of all the camps throughout their hosts: and\\r\\nover his host was Ahiezer the son of Ammishaddai.\\r\\n\\r\\n10:26 And over the host of the tribe of the children of Asher was\\r\\nPagiel the son of Ocran.\\r\\n\\r\\n10:27 And over the host of the tribe of the children of Naphtali was\\r\\nAhira the son of Enan.\\r\\n\\r\\n10:28 Thus were the journeyings of the children of Israel according to'), Document(id='94ef6fa2-675f-4161-9f88-e14cc2aee19b', metadata={'source': 'your_source'}, page_content='by inheritance.\\r\\n\\r\\n34:19 And the names of the men are these: Of the tribe of Judah, Caleb\\r\\nthe son of Jephunneh.\\r\\n\\r\\n34:20 And of the tribe of the children of Simeon, Shemuel the son of\\r\\nAmmihud.\\r\\n\\r\\n34:21 Of the tribe of Benjamin, Elidad the son of Chislon.\\r\\n\\r\\n34:22 And the prince of the tribe of the children of Dan, Bukki the\\r\\nson of Jogli.\\r\\n\\r\\n34:23 The prince of the children of Joseph, for the tribe of the\\r\\nchildren of Manasseh, Hanniel the son of Ephod.'), Document(id='e84f0d6e-7dd1-462d-b54c-4532e0425a5e', metadata={'source': 'your_source'}, page_content='and they came to Hebron at break of day.\\r\\n\\r\\n3:1 Now there was long war between the house of Saul and the house of\\r\\nDavid: but David waxed stronger and stronger, and the house of Saul\\r\\nwaxed weaker and weaker.\\r\\n\\r\\n3:2 And unto David were sons born in Hebron: and his firstborn was\\r\\nAmnon, of Ahinoam the Jezreelitess; 3:3 And his second, Chileab, of\\r\\nAbigail the wife of Nabal the Carmelite; and the third, Absalom the\\r\\nson of Maacah the daughter of Talmai king of Geshur; 3:4 And the'), Document(id='028eb955-603c-4b5c-9323-cb660c7099eb', metadata={'source': 'your_source'}, page_content='These are the dukes of Edom.\\r\\n\\r\\n2:1 These are the sons of Israel; Reuben, Simeon, Levi, and Judah,\\r\\nIssachar, and Zebulun, 2:2 Dan, Joseph, and Benjamin, Naphtali, Gad,\\r\\nand Asher.\\r\\n\\r\\n2:3 The sons of Judah; Er, and Onan, and Shelah: which three were born\\r\\nunto him of the daughter of Shua the Canaanitess. And Er, the\\r\\nfirstborn of Judah, was evil in the sight of the LORD; and he slew\\r\\nhim.\\r\\n\\r\\n2:4 And Tamar his daughter in law bore him Pharez and Zerah. All the\\r\\nsons of Judah were five.'), Document(id='cc43c56a-cc24-4cd3-8df3-3d738fb58a42', metadata={'source': 'your_source'}, page_content='daughters, and his sons’ daughters, and all his seed brought he with\\r\\nhim into Egypt.\\r\\n\\r\\n46:8 And these are the names of the children of Israel, which came\\r\\ninto Egypt, Jacob and his sons: Reuben, Jacob’s firstborn.\\r\\n\\r\\n46:9 And the sons of Reuben; Hanoch, and Phallu, and Hezron, and\\r\\nCarmi.\\r\\n\\r\\n46:10 And the sons of Simeon; Jemuel, and Jamin, and Ohad, and Jachin,\\r\\nand Zohar, and Shaul the son of a Canaanitish woman.\\r\\n\\r\\n46:11 And the sons of Levi; Gershon, Kohath, and Merari.'), Document(id='28e4db8e-e383-4811-a015-c147fc0748ff', metadata={'source': 'your_source'}, page_content='were the sons of the Levites after the house of their fathers.\\r\\n\\r\\n24:31 These likewise cast lots over against their brethren the sons of\\r\\nAaron in the presence of David the king, and Zadok, and Ahimelech, and\\r\\nthe chief of the fathers of the priests and Levites, even the\\r\\nprincipal fathers over against their younger brethren.\\r\\n\\r\\n25:1 Moreover David and the captains of the host separated to the\\r\\nservice of the sons of Asaph, and of Heman, and of Jeduthun, who'), Document(id='1fadc976-83ba-4da0-9026-cf0aba351b02', metadata={'source': 'your_source'}, page_content='to the children of Benjamin, Benaiah the Pirathonite, 11:32 Hurai of\\r\\nthe brooks of Gaash, Abiel the Arbathite, 11:33 Azmaveth the\\r\\nBaharumite, Eliahba the Shaalbonite, 11:34 The sons of Hashem the\\r\\nGizonite, Jonathan the son of Shage the Hararite, 11:35 Ahiam the son\\r\\nof Sacar the Hararite, Eliphal the son of Ur, 11:36 Hepher the\\r\\nMecherathite, Ahijah the Pelonite, 11:37 Hezro the Carmelite, Naarai\\r\\nthe son of Ezbai, 11:38 Joel the brother of Nathan, Mibhar the son of'), Document(id='9f26a53a-c94e-43c9-a168-ffcef0577101', metadata={'source': 'your_source'}, page_content='went and lay with Bilhah his father’s concubine: and Israel heard it.\\r\\nNow the sons of Jacob were twelve: 35:23 The sons of Leah; Reuben,\\r\\nJacob’s firstborn, and Simeon, and Levi, and Judah, and Issachar, and\\r\\nZebulun: 35:24 The sons of Rachel; Joseph, and Benjamin: 35:25 And the\\r\\nsons of Bilhah, Rachel’s handmaid; Dan, and Naphtali: 35:26 And the\\r\\nsons of Zilpah, Leah’s handmaid: Gad, and Asher: these are the sons of\\r\\nJacob, which were born to him in Padanaram.'), Document(id='be2b247c-afbe-4406-aa8d-a7a5a17a9cab', metadata={'source': 'your_source'}, page_content='and Amal.\\r\\n\\r\\n7:36 The sons of Zophah; Suah, and Harnepher, and Shual, and Beri, and\\r\\nImrah, 7:37 Bezer, and Hod, and Shamma, and Shilshah, and Ithran, and\\r\\nBeera.\\r\\n\\r\\n7:38 And the sons of Jether; Jephunneh, and Pispah, and Ara.\\r\\n\\r\\n7:39 And the sons of Ulla; Arah, and Haniel, and Rezia.\\r\\n\\r\\n7:40 All these were the children of Asher, heads of their father’s\\r\\nhouse, choice and mighty men of valour, chief of the princes. And the\\r\\nnumber throughout the genealogy of them that were apt to the war and'), Document(id='3725da27-c3ce-4bf9-9825-996ab702e4da', metadata={'source': 'your_source'}, page_content='5:1 This is the book of the generations of Adam. In the day that God\\r\\ncreated man, in the likeness of God made he him; 5:2 Male and female\\r\\ncreated he them; and blessed them, and called their name Adam, in the\\r\\nday when they were created.\\r\\n\\r\\n5:3 And Adam lived an hundred and thirty years, and begat a son in his\\r\\nown likeness, and after his image; and called his name Seth: 5:4 And\\r\\nthe days of Adam after he had begotten Seth were eight hundred years:'), Document(id='57dbcc26-03b6-41b8-868d-c7801787e3ea', metadata={'source': 'your_source'}, page_content='and Haran begat Gazez.\\r\\n\\r\\n2:47 And the sons of Jahdai; Regem, and Jotham, and Gesham, and Pelet,\\r\\nand Ephah, and Shaaph.\\r\\n\\r\\n2:48 Maachah, Caleb’s concubine, bare Sheber, and Tirhanah.\\r\\n\\r\\n2:49 She bare also Shaaph the father of Madmannah, Sheva the father of\\r\\nMachbenah, and the father of Gibea: and the daughter of Caleb was\\r\\nAchsa.\\r\\n\\r\\n2:50 These were the sons of Caleb the son of Hur, the firstborn of\\r\\nEphratah; Shobal the father of Kirjathjearim.'), Document(id='1ea01454-0313-4284-9159-c7314f8d83ba', metadata={'source': 'your_source'}, page_content='their families.\\r\\n\\r\\n17:3 But Zelophehad, the son of Hepher, the son of Gilead, the son of\\r\\nMachir, the son of Manasseh, had no sons, but daughters: and these are\\r\\nthe names of his daughters, Mahlah, and Noah, Hoglah, Milcah, and\\r\\nTirzah.\\r\\n\\r\\n17:4 And they came near before Eleazar the priest, and before Joshua\\r\\nthe son of Nun, and before the princes, saying, The LORD commanded\\r\\nMoses to give us an inheritance among our brethren. Therefore')]\n",
            "\n",
            "Вопрос: What were the names of Adam's' sons?\n",
            "\n",
            "Ответ: 'other', 'N, and his wife of the highest of the original'\n",
            "\n",
            "**\n",
            "--------------------------------------------------\n",
            "Вопрос: Who is Moses?\n",
            "Ответ: Используй следующий контекст, чтобы ответить на вопрос пользователя. \n",
            "Если ты не знаешь ответа, просто скажи, что не можешь найти информацию в предоставленном контексте.\n",
            " Не придумывай ответ если не знаешь.\n",
            "\n",
            "Контекст:\n",
            "[Document(id='214ccdc5-ecd9-4711-aeb3-014cdfa15774', metadata={'source': 'your_source'}, page_content='him out of the midst of the bush, and said, Moses, Moses. And he said,\\r\\nHere am I.\\r\\n\\r\\n3:5 And he said, Draw not nigh hither: put off thy shoes from off thy\\r\\nfeet, for the place whereon thou standest is holy ground.\\r\\n\\r\\n3:6 Moreover he said, I am the God of thy father, the God of Abraham,\\r\\nthe God of Isaac, and the God of Jacob. And Moses hid his face; for he\\r\\nwas afraid to look upon God.\\r\\n\\r\\n3:7 And the LORD said, I have surely seen the affliction of my people'), Document(id='6236d9a0-55e4-4379-b0c1-defe3d07390e', metadata={'source': 'your_source'}, page_content='thing wherein they dealt proudly he was above them.\\r\\n\\r\\n18:12 And Jethro, Moses’ father in law, took a burnt offering and\\r\\nsacrifices for God: and Aaron came, and all the elders of Israel, to\\r\\neat bread with Moses’ father in law before God.\\r\\n\\r\\n18:13 And it came to pass on the morrow, that Moses sat to judge the\\r\\npeople: and the people stood by Moses from the morning unto the\\r\\nevening.\\r\\n\\r\\n18:14 And when Moses’ father in law saw all that he did to the people,'), Document(id='8c3c111e-fa11-4e56-b2ce-de6c86a06d6e', metadata={'source': 'your_source'}, page_content='Moses the servant of the LORD charged you, to love the LORD your God,\\r\\nand to walk in all his ways, and to keep his commandments, and to\\r\\ncleave unto him, and to serve him with all your heart and with all\\r\\nyour soul.\\r\\n\\r\\n22:6 So Joshua blessed them, and sent them away: and they went unto\\r\\ntheir tents.\\r\\n\\r\\n22:7 Now to the one half of the tribe of Manasseh Moses had given\\r\\npossession in Bashan: but unto the other half thereof gave Joshua'), Document(id='2d76af96-54de-4725-8320-86550a45da49', metadata={'source': 'your_source'}, page_content='according to their father’s house.\\r\\n\\r\\n23:12 The sons of Kohath; Amram, Izhar, Hebron, and Uzziel, four.\\r\\n\\r\\n23:13 The sons of Amram; Aaron and Moses: and Aaron was separated,\\r\\nthat he should sanctify the most holy things, he and his sons for\\r\\never, to burn incense before the LORD, to minister unto him, and to\\r\\nbless in his name for ever.\\r\\n\\r\\n23:14 Now concerning Moses the man of God, his sons were named of the\\r\\ntribe of Levi.\\r\\n\\r\\n23:15 The sons of Moses were, Gershom, and Eliezer.'), Document(id='7ebfa2a0-25ef-44f9-ad9d-540d696ef4f6', metadata={'source': 'your_source'}, page_content='Egyptians.\\r\\n\\r\\nMoreover the man Moses was very great in the land of Egypt, in the\\r\\nsight of Pharaoh’s servants, and in the sight of the people.\\r\\n\\r\\n11:4 And Moses said, Thus saith the LORD, About midnight will I go out\\r\\ninto the midst of Egypt: 11:5 And all the firstborn in the land of\\r\\nEgypt shall die, from the first born of Pharaoh that sitteth upon his\\r\\nthrone, even unto the firstborn of the maidservant that is behind the\\r\\nmill; and all the firstborn of beasts.'), Document(id='56cbcfaa-369f-42f2-8f5d-88260a44d98d', metadata={'source': 'your_source'}, page_content='24:11 And the Israelitish woman’s son blasphemed the name of the Lord,\\r\\nand cursed. And they brought him unto Moses: (and his mother’s name\\r\\nwas Shelomith, the daughter of Dibri, of the tribe of Dan:) 24:12 And\\r\\nthey put him in ward, that the mind of the LORD might be shewed them.\\r\\n\\r\\n24:13 And the LORD spake unto Moses, saying, 24:14 Bring forth him\\r\\nthat hath cursed without the camp; and let all that heard him lay\\r\\ntheir hands upon his head, and let all the congregation stone him.'), Document(id='32c65a46-8d22-4948-a794-172b04b96570', metadata={'source': 'your_source'}, page_content='the child, and nursed it.\\r\\n\\r\\n2:10 And the child grew, and she brought him unto Pharaoh’s daughter,\\r\\nand he became her son. And she called his name Moses: and she said,\\r\\nBecause I drew him out of the water.\\r\\n\\r\\n2:11 And it came to pass in those days, when Moses was grown, that he\\r\\nwent out unto his brethren, and looked on their burdens: and he spied\\r\\nan Egyptian smiting an Hebrew, one of his brethren.\\r\\n\\r\\n2:12 And he looked this way and that way, and when he saw that there'), Document(id='3be603a4-6182-4ec3-912f-691eaeeb5e1b', metadata={'source': 'your_source'}, page_content='in the sight of all Israel.\\r\\n\\r\\n\\r\\n\\r\\n\\r\\nThe Book of Joshua\\r\\n\\r\\n\\r\\n1:1 Now after the death of Moses the servant of the LORD it came to\\r\\npass, that the LORD spake unto Joshua the son of Nun, Moses’ minister,\\r\\nsaying, 1:2 Moses my servant is dead; now therefore arise, go over\\r\\nthis Jordan, thou, and all this people, unto the land which I do give\\r\\nto them, even to the children of Israel.\\r\\n\\r\\n1:3 Every place that the sole of your foot shall tread upon, that have\\r\\nI given unto you, as I said unto Moses.'), Document(id='5ebe21c5-ceb9-4501-b9d8-42e07741e3fc', metadata={'source': 'your_source'}, page_content='woman whom he had married: for he had married an Ethiopian woman.\\r\\n\\r\\n12:2 And they said, Hath the LORD indeed spoken only by Moses? hath he\\r\\nnot spoken also by us? And the LORD heard it.\\r\\n\\r\\n12:3 (Now the man Moses was very meek, above all the men which were\\r\\nupon the face of the earth.) 12:4 And the LORD spake suddenly unto\\r\\nMoses, and unto Aaron, and unto Miriam, Come out ye three unto the\\r\\ntabernacle of the congregation. And they three came out.'), Document(id='d7ab1a2d-7684-4592-a83e-89693385cfba', metadata={'source': 'your_source'}, page_content='the LORD had brought Israel out of Egypt; 18:2 Then Jethro, Moses’\\r\\nfather in law, took Zipporah, Moses’ wife, after he had sent her back,\\r\\n18:3 And her two sons; of which the name of the one was Gershom; for\\r\\nhe said, I have been an alien in a strange land: 18:4 And the name of\\r\\nthe other was Eliezer; for the God of my father, said he, was mine\\r\\nhelp, and delivered me from the sword of Pharaoh: 18:5 And Jethro,\\r\\nMoses’ father in law, came with his sons and his wife unto Moses into'), Document(id='1ea92e5d-0811-45b9-9719-8ca2bc81b28a', metadata={'source': 'your_source'}, page_content='105:21 He made him lord of his house, and ruler of all his substance:\\r\\n\\r\\n105:22 To bind his princes at his pleasure; and teach his senators\\r\\nwisdom.\\r\\n\\r\\n105:23 Israel also came into Egypt; and Jacob sojourned in the land of\\r\\nHam.\\r\\n\\r\\n105:24 And he increased his people greatly; and made them stronger\\r\\nthan their enemies.\\r\\n\\r\\n105:25 He turned their heart to hate his people, to deal subtilly with\\r\\nhis servants.\\r\\n\\r\\n105:26 He sent Moses his servant; and Aaron whom he had chosen.'), Document(id='d2051353-4b22-499f-83b6-1deeb2c32dc1', metadata={'source': 'your_source'}, page_content='Egypt, to be your God: I am the LORD your God.\\r\\n\\r\\n16:1 Now Korah, the son of Izhar, the son of Kohath, the son of Levi,\\r\\nand Dathan and Abiram, the sons of Eliab, and On, the son of Peleth,\\r\\nsons of Reuben, took men: 16:2 And they rose up before Moses, with\\r\\ncertain of the children of Israel, two hundred and fifty princes of\\r\\nthe assembly, famous in the congregation, men of renown: 16:3 And they\\r\\ngathered themselves together against Moses and against Aaron, and said'), Document(id='7fbcc547-7fc3-4a40-ad44-c3d712886b2d', metadata={'source': 'your_source'}, page_content='all that he had said.\\r\\n\\r\\n18:25 And Moses chose able men out of all Israel, and made them heads\\r\\nover the people, rulers of thousands, rulers of hundreds, rulers of\\r\\nfifties, and rulers of tens.\\r\\n\\r\\n18:26 And they judged the people at all seasons: the hard causes they\\r\\nbrought unto Moses, but every small matter they judged themselves.\\r\\n\\r\\n18:27 And Moses let his father in law depart; and he went his way into\\r\\nhis own land.\\r\\n\\r\\n19:1 In the third month, when the children of Israel were gone forth'), Document(id='e4b14711-d4e1-484a-964e-632c40fcbb88', metadata={'source': 'your_source'}, page_content='his hand.\\r\\n\\r\\n4:21 And the LORD said unto Moses, When thou goest to return into\\r\\nEgypt, see that thou do all those wonders before Pharaoh, which I have\\r\\nput in thine hand: but I will harden his heart, that he shall not let\\r\\nthe people go.\\r\\n\\r\\n4:22 And thou shalt say unto Pharaoh, Thus saith the LORD, Israel is\\r\\nmy son, even my firstborn: 4:23 And I say unto thee, Let my son go,\\r\\nthat he may serve me: and if thou refuse to let him go, behold, I will\\r\\nslay thy son, even thy firstborn.'), Document(id='e1253f87-8724-40ae-a97d-c2876936a789', metadata={'source': 'your_source'}, page_content='ever, to burn incense before the LORD, to minister unto him, and to\\r\\nbless in his name for ever.\\r\\n\\r\\n23:14 Now concerning Moses the man of God, his sons were named of the\\r\\ntribe of Levi.\\r\\n\\r\\n23:15 The sons of Moses were, Gershom, and Eliezer.\\r\\n\\r\\n23:16 Of the sons of Gershom, Shebuel was the chief.\\r\\n\\r\\n23:17 And the sons of Eliezer were, Rehabiah the chief. And Eliezer\\r\\nhad none other sons; but the sons of Rehabiah were very many.\\r\\n\\r\\n23:18 Of the sons of Izhar; Shelomith the chief.'), Document(id='88c7ac5d-47a0-4c20-b9de-fc475d8aaae2', metadata={'source': 'your_source'}, page_content='2:20 And he said unto his daughters, And where is he? why is it that\\r\\nye have left the man? call him, that he may eat bread.\\r\\n\\r\\n2:21 And Moses was content to dwell with the man: and he gave Moses\\r\\nZipporah his daughter.\\r\\n\\r\\n2:22 And she bare him a son, and he called his name Gershom: for he\\r\\nsaid, I have been a stranger in a strange land.\\r\\n\\r\\n2:23 And it came to pass in process of time, that the king of Egypt\\r\\ndied: and the children of Israel sighed by reason of the bondage, and'), Document(id='fc0787d1-fbd4-42fa-89d8-5a7d71fe0e73', metadata={'source': 'your_source'}, page_content='2:13 And when he went out the second day, behold, two men of the\\r\\nHebrews strove together: and he said to him that did the wrong,\\r\\nWherefore smitest thou thy fellow? 2:14 And he said, Who made thee a\\r\\nprince and a judge over us? intendest thou to kill me, as thou\\r\\nkilledst the Egyptian? And Moses feared, and said, Surely this thing\\r\\nis known.\\r\\n\\r\\n2:15 Now when Pharaoh heard this thing, he sought to slay Moses. But\\r\\nMoses fled from the face of Pharaoh, and dwelt in the land of Midian:'), Document(id='427c70d5-fe80-4a8c-aaf2-b592b9c143ca', metadata={'source': 'your_source'}, page_content='Egypt, we wot not what is become of him.\\r\\n\\r\\n32:24 And I said unto them, Whosoever hath any gold, let them break it\\r\\noff. So they gave it me: then I cast it into the fire, and there came\\r\\nout this calf.\\r\\n\\r\\n32:25 And when Moses saw that the people were naked; (for Aaron had\\r\\nmade them naked unto their shame among their enemies:) 32:26 Then\\r\\nMoses stood in the gate of the camp, and said, Who is on the LORD’s\\r\\nside? let him come unto me. And all the sons of Levi gathered'), Document(id='c7948201-18f7-4186-a8c6-cdf22ef97410', metadata={'source': 'your_source'}, page_content='of the angel which appeared to him in the bush.\\r\\n\\r\\n7:36 He brought them out, after that he had shewed wonders and signs\\r\\nin the land of Egypt, and in the Red sea, and in the wilderness forty\\r\\nyears.\\r\\n\\r\\n7:37 This is that Moses, which said unto the children of Israel, A\\r\\nprophet shall the Lord your God raise up unto you of your brethren,\\r\\nlike unto me; him shall ye hear.\\r\\n\\r\\n7:38 This is he, that was in the church in the wilderness with the'), Document(id='3db6d2c4-8214-4b46-8d7a-0e93676ba4ca', metadata={'source': 'your_source'}, page_content='Israel, out of the land of Egypt by great judgments.\\r\\n\\r\\n7:5 And the Egyptians shall know that I am the LORD, when I stretch\\r\\nforth mine hand upon Egypt, and bring out the children of Israel from\\r\\namong them.\\r\\n\\r\\n7:6 And Moses and Aaron did as the LORD commanded them, so did they.\\r\\n\\r\\n7:7 And Moses was fourscore years old, and Aaron fourscore and three\\r\\nyears old, when they spake unto Pharaoh.\\r\\n\\r\\n7:8 And the LORD spake unto Moses and unto Aaron, saying, 7:9 When'), Document(id='0a1dc81c-3de5-40e3-b357-f19930d4a870', metadata={'source': 'your_source'}, page_content='3:11 And Moses said unto God, Who am I, that I should go unto Pharaoh,\\r\\nand that I should bring forth the children of Israel out of Egypt?\\r\\n3:12 And he said, Certainly I will be with thee; and this shall be a\\r\\ntoken unto thee, that I have sent thee: When thou hast brought forth\\r\\nthe people out of Egypt, ye shall serve God upon this mountain.\\r\\n\\r\\n3:13 And Moses said unto God, Behold, when I come unto the children of\\r\\nIsrael, and shall say unto them, The God of your fathers hath sent me'), Document(id='cd74e009-d0b9-43ec-b43b-297107b588f2', metadata={'source': 'your_source'}, page_content='Moses’ father in law, We are journeying unto the place of which the\\r\\nLORD said, I will give it you: come thou with us, and we will do thee\\r\\ngood: for the LORD hath spoken good concerning Israel.\\r\\n\\r\\n10:30 And he said unto him, I will not go; but I will depart to mine\\r\\nown land, and to my kindred.\\r\\n\\r\\n10:31 And he said, Leave us not, I pray thee; forasmuch as thou\\r\\nknowest how we are to encamp in the wilderness, and thou mayest be to\\r\\nus instead of eyes.'), Document(id='1265c5ff-1342-4250-8c0d-a4ac4f24c08b', metadata={'source': 'your_source'}, page_content='for all the men are dead which sought thy life.\\r\\n\\r\\n4:20 And Moses took his wife and his sons, and set them upon an ass,\\r\\nand he returned to the land of Egypt: and Moses took the rod of God in\\r\\nhis hand.\\r\\n\\r\\n4:21 And the LORD said unto Moses, When thou goest to return into\\r\\nEgypt, see that thou do all those wonders before Pharaoh, which I have\\r\\nput in thine hand: but I will harden his heart, that he shall not let\\r\\nthe people go.'), Document(id='521b2494-2fcf-4294-bd0d-2a2c3016f465', metadata={'source': 'your_source'}, page_content='LORD made by fire by a perpetual statute.\\r\\n\\r\\n24:10 And the son of an Israelitish woman, whose father was an\\r\\nEgyptian, went out among the children of Israel: and this son of the\\r\\nIsraelitish woman and a man of Israel strove together in the camp;\\r\\n24:11 And the Israelitish woman’s son blasphemed the name of the Lord,\\r\\nand cursed. And they brought him unto Moses: (and his mother’s name\\r\\nwas Shelomith, the daughter of Dibri, of the tribe of Dan:) 24:12 And'), Document(id='a2db8c98-f5e3-468a-bf77-4d42542cba0c', metadata={'source': 'your_source'}, page_content='his servant Moses.\\r\\n\\r\\n15:1 Then sang Moses and the children of Israel this song unto the\\r\\nLORD, and spake, saying, I will sing unto the LORD, for he hath\\r\\ntriumphed gloriously: the horse and his rider hath he thrown into the\\r\\nsea.\\r\\n\\r\\n15:2 The LORD is my strength and song, and he is become my salvation:\\r\\nhe is my God, and I will prepare him an habitation; my father’s God,\\r\\nand I will exalt him.\\r\\n\\r\\n15:3 The LORD is a man of war: the LORD is his name.'), Document(id='bfa25e11-84ae-4a1a-9bcf-428f58bc5f2a', metadata={'source': 'your_source'}, page_content='Moses.\\r\\n\\r\\n4:1 And the LORD spake unto Moses and unto Aaron, saying, 4:2 Take the\\r\\nsum of the sons of Kohath from among the sons of Levi, after their\\r\\nfamilies, by the house of their fathers, 4:3 From thirty years old and\\r\\nupward even until fifty years old, all that enter into the host, to do\\r\\nthe work in the tabernacle of the congregation.\\r\\n\\r\\n4:4 This shall be the service of the sons of Kohath in the tabernacle\\r\\nof the congregation, about the most holy things: 4:5 And when the camp'), Document(id='405dd9f5-515e-4198-bbcd-cbd285fb4269', metadata={'source': 'your_source'}, page_content='34:7 And Moses was an hundred and twenty years old when he died: his\\r\\neye was not dim, nor his natural force abated.\\r\\n\\r\\n34:8 And the children of Israel wept for Moses in the plains of Moab\\r\\nthirty days: so the days of weeping and mourning for Moses were ended.\\r\\n\\r\\n34:9 And Joshua the son of Nun was full of the spirit of wisdom; for\\r\\nMoses had laid his hands upon him: and the children of Israel\\r\\nhearkened unto him, and did as the LORD commanded Moses.'), Document(id='b17f4bac-5f77-4970-bd76-a49a92e0673e', metadata={'source': 'your_source'}, page_content='unto him, Let me go, I pray thee, and return unto my brethren which\\r\\nare in Egypt, and see whether they be yet alive. And Jethro said to\\r\\nMoses, Go in peace.\\r\\n\\r\\n4:19 And the LORD said unto Moses in Midian, Go, return into Egypt:\\r\\nfor all the men are dead which sought thy life.\\r\\n\\r\\n4:20 And Moses took his wife and his sons, and set them upon an ass,\\r\\nand he returned to the land of Egypt: and Moses took the rod of God in\\r\\nhis hand.'), Document(id='d4cf1ec5-cc75-408c-878d-395aa2fd739e', metadata={'source': 'your_source'}, page_content='Ebal, 8:31 As Moses the servant of the LORD commanded the children of\\r\\nIsrael, as it is written in the book of the law of Moses, an altar of\\r\\nwhole stones, over which no man hath lift up any iron: and they\\r\\noffered thereon burnt offerings unto the LORD, and sacrificed peace\\r\\nofferings.\\r\\n\\r\\n8:32 And he wrote there upon the stones a copy of the law of Moses,\\r\\nwhich he wrote in the presence of the children of Israel.\\r\\n\\r\\n8:33 And all Israel, and their elders, and officers, and their judges,'), Document(id='35cc45c6-1836-4797-9673-0d685c326edf', metadata={'source': 'your_source'}, page_content='the wilderness, where he encamped at the mount of God: 18:6 And he\\r\\nsaid unto Moses, I thy father in law Jethro am come unto thee, and thy\\r\\nwife, and her two sons with her.\\r\\n\\r\\n18:7 And Moses went out to meet his father in law, and did obeisance,\\r\\nand kissed him; and they asked each other of their welfare; and they\\r\\ncame into the tent.\\r\\n\\r\\n18:8 And Moses told his father in law all that the LORD had done unto\\r\\nPharaoh and to the Egyptians for Israel’s sake, and all the travail')]\n",
            "\n",
            "Вопрос: Who is Moses?\n",
            "\n",
            "Ответ: I amr the number of all the same thing, and his father.\n",
            "\n",
            "**\n",
            "\n",
            "**\n",
            "\n",
            "As for the people.\n",
            "\n",
            "\n",
            "**\n",
            "--------------------------------------------------\n",
            "Вопрос: Who was the serpent?\n",
            "Ответ: Используй следующий контекст, чтобы ответить на вопрос пользователя. \n",
            "Если ты не знаешь ответа, просто скажи, что не можешь найти информацию в предоставленном контексте.\n",
            " Не придумывай ответ если не знаешь.\n",
            "\n",
            "Контекст:\n",
            "[Document(id='87a928e9-6b26-449b-a1d5-fca9ed23ce95', metadata={'source': 'your_source'}, page_content='12:15 And the serpent cast out of his mouth water as a flood after the\\r\\nwoman, that he might cause her to be carried away of the flood.\\r\\n\\r\\n12:16 And the earth helped the woman, and the earth opened her mouth,\\r\\nand swallowed up the flood which the dragon cast out of his mouth.\\r\\n\\r\\n12:17 And the dragon was wroth with the woman, and went to make war\\r\\nwith the remnant of her seed, which keep the commandments of God, and\\r\\nhave the testimony of Jesus Christ.'), Document(id='4d295bb6-cc94-4443-9f13-13914d13c6bc', metadata={'source': 'your_source'}, page_content='21:7 Therefore the people came to Moses, and said, We have sinned, for\\r\\nwe have spoken against the LORD, and against thee; pray unto the LORD,\\r\\nthat he take away the serpents from us. And Moses prayed for the\\r\\npeople.\\r\\n\\r\\n21:8 And the LORD said unto Moses, Make thee a fiery serpent, and set\\r\\nit upon a pole: and it shall come to pass, that every one that is\\r\\nbitten, when he looketh upon it, shall live.\\r\\n\\r\\n21:9 And Moses made a serpent of brass, and put it upon a pole, and it'), Document(id='cd02ae03-3fba-4db6-97f1-d19691b3abaa', metadata={'source': 'your_source'}, page_content='thou shalt say unto Aaron, Take thy rod, and cast it before Pharaoh,\\r\\nand it shall become a serpent.\\r\\n\\r\\n7:10 And Moses and Aaron went in unto Pharaoh, and they did so as the\\r\\nLORD had commanded: and Aaron cast down his rod before Pharaoh, and\\r\\nbefore his servants, and it became a serpent.\\r\\n\\r\\n7:11 Then Pharaoh also called the wise men and the sorcerers: now the\\r\\nmagicians of Egypt, they also did in like manner with their\\r\\nenchantments.'), Document(id='55f19e59-5bcf-4416-86e9-f778f85ed3c4', metadata={'source': 'your_source'}, page_content='flesh: she shall be called Woman, because she was taken out of Man.\\r\\n\\r\\n2:24 Therefore shall a man leave his father and his mother, and shall\\r\\ncleave unto his wife: and they shall be one flesh.\\r\\n\\r\\n2:25 And they were both naked, the man and his wife, and were not\\r\\nashamed.\\r\\n\\r\\n3:1 Now the serpent was more subtil than any beast of the field which\\r\\nthe LORD God had made. And he said unto the woman, Yea, hath God said,\\r\\nYe shall not eat of every tree of the garden? 3:2 And the woman said'), Document(id='512b7568-76b4-468a-9720-db36b7cab310', metadata={'source': 'your_source'}, page_content='ashamed.\\r\\n\\r\\n3:1 Now the serpent was more subtil than any beast of the field which\\r\\nthe LORD God had made. And he said unto the woman, Yea, hath God said,\\r\\nYe shall not eat of every tree of the garden? 3:2 And the woman said\\r\\nunto the serpent, We may eat of the fruit of the trees of the garden:\\r\\n3:3 But of the fruit of the tree which is in the midst of the garden,\\r\\nGod hath said, Ye shall not eat of it, neither shall ye touch it, lest\\r\\nye die.'), Document(id='aa8b1dd0-9385-4c03-97c3-5e930ab15584', metadata={'source': 'your_source'}, page_content='were filled with their flesh.\\r\\n\\r\\n20:1 And I saw an angel come down from heaven, having the key of the\\r\\nbottomless pit and a great chain in his hand.\\r\\n\\r\\n20:2 And he laid hold on the dragon, that old serpent, which is the\\r\\nDevil, and Satan, and bound him a thousand years, 20:3 And cast him\\r\\ninto the bottomless pit, and shut him up, and set a seal upon him,\\r\\nthat he should deceive the nations no more, till the thousand years\\r\\nshould be fulfilled: and after that he must be loosed a little season.'), Document(id='4c721971-7e95-435d-8056-edfc1d7f9dce', metadata={'source': 'your_source'}, page_content='gave me of the tree, and I did eat.\\r\\n\\r\\n3:13 And the LORD God said unto the woman, What is this that thou hast\\r\\ndone? And the woman said, The serpent beguiled me, and I did eat.\\r\\n\\r\\n3:14 And the LORD God said unto the serpent, Because thou hast done\\r\\nthis, thou art cursed above all cattle, and above every beast of the\\r\\nfield; upon thy belly shalt thou go, and dust shalt thou eat all the\\r\\ndays of thy life: 3:15 And I will put enmity between thee and the'), Document(id='5af30abf-1c99-49a2-ba2b-53448b76d258', metadata={'source': 'your_source'}, page_content='and swallowed up the flood which the dragon cast out of his mouth.\\r\\n\\r\\n12:17 And the dragon was wroth with the woman, and went to make war\\r\\nwith the remnant of her seed, which keep the commandments of God, and\\r\\nhave the testimony of Jesus Christ.\\r\\n\\r\\n13:1 And I stood upon the sand of the sea, and saw a beast rise up out\\r\\nof the sea, having seven heads and ten horns, and upon his horns ten\\r\\ncrowns, and upon his heads the name of blasphemy.'), Document(id='b3bbf083-efae-4f34-a4f1-4fe94c8d821e', metadata={'source': 'your_source'}, page_content='These both were cast alive into a lake of fire burning with brimstone.\\r\\n\\r\\n19:21 And the remnant were slain with the sword of him that sat upon\\r\\nthe horse, which sword proceeded out of his mouth: and all the fowls\\r\\nwere filled with their flesh.\\r\\n\\r\\n20:1 And I saw an angel come down from heaven, having the key of the\\r\\nbottomless pit and a great chain in his hand.\\r\\n\\r\\n20:2 And he laid hold on the dragon, that old serpent, which is the'), Document(id='e74222a6-2c2d-4b8b-839c-68405c5ffbce', metadata={'source': 'your_source'}, page_content='it upon a pole: and it shall come to pass, that every one that is\\r\\nbitten, when he looketh upon it, shall live.\\r\\n\\r\\n21:9 And Moses made a serpent of brass, and put it upon a pole, and it\\r\\ncame to pass, that if a serpent had bitten any man, when he beheld the\\r\\nserpent of brass, he lived.\\r\\n\\r\\n21:10 And the children of Israel set forward, and pitched in Oboth.\\r\\n\\r\\n21:11 And they journeyed from Oboth, and pitched at Ijeabarim, in the\\r\\nwilderness which is before Moab, toward the sunrising.'), Document(id='7a107b7a-cdc2-4a7a-a961-8e5726c28a3e', metadata={'source': 'your_source'}, page_content='me, nor hearken unto my voice: for they will say, The LORD hath not\\r\\nappeared unto thee.\\r\\n\\r\\n4:2 And the LORD said unto him, What is that in thine hand? And he\\r\\nsaid, A rod.\\r\\n\\r\\n4:3 And he said, Cast it on the ground. And he cast it on the ground,\\r\\nand it became a serpent; and Moses fled from before it.\\r\\n\\r\\n4:4 And the LORD said unto Moses, Put forth thine hand, and take it by\\r\\nthe tail. And he put forth his hand, and caught it, and it became a'), Document(id='6fa5ab6e-2a3f-44cd-8588-17480c961621', metadata={'source': 'your_source'}, page_content='serpent of brass, he lived.\\r\\n\\r\\n21:10 And the children of Israel set forward, and pitched in Oboth.\\r\\n\\r\\n21:11 And they journeyed from Oboth, and pitched at Ijeabarim, in the\\r\\nwilderness which is before Moab, toward the sunrising.\\r\\n\\r\\n21:12 From thence they removed, and pitched in the valley of Zared.\\r\\n\\r\\n21:13 From thence they removed, and pitched on the other side of\\r\\nArnon, which is in the wilderness that cometh out of the coasts of the'), Document(id='ceedb608-daf7-43e3-adf4-62c0365650f6', metadata={'source': 'your_source'}, page_content='have the testimony of Jesus Christ.\\r\\n\\r\\n13:1 And I stood upon the sand of the sea, and saw a beast rise up out\\r\\nof the sea, having seven heads and ten horns, and upon his horns ten\\r\\ncrowns, and upon his heads the name of blasphemy.\\r\\n\\r\\n13:2 And the beast which I saw was like unto a leopard, and his feet\\r\\nwere as the feet of a bear, and his mouth as the mouth of a lion: and\\r\\nthe dragon gave him his power, and his seat, and great authority.'), Document(id='7bac23ff-f957-4c99-b9c1-f1f8a7cefd42', metadata={'source': 'your_source'}, page_content='persecuted the woman which brought forth the man child.\\r\\n\\r\\n12:14 And to the woman were given two wings of a great eagle, that she\\r\\nmight fly into the wilderness, into her place, where she is nourished\\r\\nfor a time, and times, and half a time, from the face of the serpent.\\r\\n\\r\\n12:15 And the serpent cast out of his mouth water as a flood after the\\r\\nwoman, that he might cause her to be carried away of the flood.\\r\\n\\r\\n12:16 And the earth helped the woman, and the earth opened her mouth,'), Document(id='fd2d6be5-aaa0-4c3d-b598-940e0006a20f', metadata={'source': 'your_source'}, page_content='3:11 And he said, Who told thee that thou wast naked? Hast thou eaten\\r\\nof the tree, whereof I commanded thee that thou shouldest not eat?\\r\\n3:12 And the man said, The woman whom thou gavest to be with me, she\\r\\ngave me of the tree, and I did eat.\\r\\n\\r\\n3:13 And the LORD God said unto the woman, What is this that thou hast\\r\\ndone? And the woman said, The serpent beguiled me, and I did eat.\\r\\n\\r\\n3:14 And the LORD God said unto the serpent, Because thou hast done'), Document(id='6ab323f1-68e5-4230-b85c-5d4464875c33', metadata={'source': 'your_source'}, page_content='the fire, there came a viper out of the heat, and fastened on his\\r\\nhand.\\r\\n\\r\\n28:4 And when the barbarians saw the venomous beast hang on his hand,\\r\\nthey said among themselves, No doubt this man is a murderer, whom,\\r\\nthough he hath escaped the sea, yet vengeance suffereth not to live.\\r\\n\\r\\n28:5 And he shook off the beast into the fire, and felt no harm.\\r\\n\\r\\n28:6 Howbeit they looked when he should have swollen, or fallen down\\r\\ndead suddenly: but after they had looked a great while, and saw no'), Document(id='8ee1d8af-4153-417a-bc0d-05e1a370d8d7', metadata={'source': 'your_source'}, page_content='before his servants, and it became a serpent.\\r\\n\\r\\n7:11 Then Pharaoh also called the wise men and the sorcerers: now the\\r\\nmagicians of Egypt, they also did in like manner with their\\r\\nenchantments.\\r\\n\\r\\n7:12 For they cast down every man his rod, and they became serpents:\\r\\nbut Aaron’s rod swallowed up their rods.\\r\\n\\r\\n7:13 And he hardened Pharaoh’s heart, that he hearkened not unto them;\\r\\nas the LORD had said.\\r\\n\\r\\n7:14 And the LORD said unto Moses, Pharaoh’s heart is hardened, he'), Document(id='04507fc6-0449-41c9-899a-79e62396789e', metadata={'source': 'your_source'}, page_content='smote thee is broken: for out of the serpent’s root shall come forth a\\r\\ncockatrice, and his fruit shall be a fiery flying serpent.\\r\\n\\r\\n14:30 And the firstborn of the poor shall feed, and the needy shall\\r\\nlie down in safety: and I will kill thy root with famine, and he shall\\r\\nslay thy remnant.\\r\\n\\r\\n14:31 Howl, O gate; cry, O city; thou, whole Palestina, art dissolved:\\r\\nfor there shall come from the north a smoke, and none shall be alone\\r\\nin his appointed times.'), Document(id='f298d3a7-3f7f-4613-9288-6b6d6d00b1cb', metadata={'source': 'your_source'}, page_content='13:2 And the beast which I saw was like unto a leopard, and his feet\\r\\nwere as the feet of a bear, and his mouth as the mouth of a lion: and\\r\\nthe dragon gave him his power, and his seat, and great authority.\\r\\n\\r\\n13:3 And I saw one of his heads as it were wounded to death; and his\\r\\ndeadly wound was healed: and all the world wondered after the beast.\\r\\n\\r\\n13:4 And they worshipped the dragon which gave power unto the beast:\\r\\nand they worshipped the beast, saying, Who is like unto the beast? who'), Document(id='6e75a6e7-437e-4756-8cce-76000afe6101', metadata={'source': 'your_source'}, page_content='and it became a serpent; and Moses fled from before it.\\r\\n\\r\\n4:4 And the LORD said unto Moses, Put forth thine hand, and take it by\\r\\nthe tail. And he put forth his hand, and caught it, and it became a\\r\\nrod in his hand: 4:5 That they may believe that the LORD God of their\\r\\nfathers, the God of Abraham, the God of Isaac, and the God of Jacob,\\r\\nhath appeared unto thee.\\r\\n\\r\\n4:6 And the LORD said furthermore unto him, Put now thine hand into'), Document(id='5a91990c-f4cc-4a5a-b6fc-1527fdaafd32', metadata={'source': 'your_source'}, page_content='though they climb up to heaven, thence will I bring them down: 9:3 And\\r\\nthough they hide themselves in the top of Carmel, I will search and\\r\\ntake them out thence; and though they be hid from my sight in the\\r\\nbottom of the sea, thence will I command the serpent, and he shall\\r\\nbite them: 9:4 And though they go into captivity before their enemies,\\r\\nthence will I command the sword, and it shall slay them: and I will\\r\\nset mine eyes upon them for evil, and not for good.'), Document(id='24ca8de4-46fa-4df0-955a-90b105b9b28b', metadata={'source': 'your_source'}, page_content='unto the serpent, We may eat of the fruit of the trees of the garden:\\r\\n3:3 But of the fruit of the tree which is in the midst of the garden,\\r\\nGod hath said, Ye shall not eat of it, neither shall ye touch it, lest\\r\\nye die.\\r\\n\\r\\n3:4 And the serpent said unto the woman, Ye shall not surely die: 3:5\\r\\nFor God doth know that in the day ye eat thereof, then your eyes shall\\r\\nbe opened, and ye shall be as gods, knowing good and evil.\\r\\n\\r\\n3:6 And when the woman saw that the tree was good for food, and that'), Document(id='ce35b5f5-230b-48ba-ae4e-ed1fd410e4fd', metadata={'source': 'your_source'}, page_content='the man.\\r\\n\\r\\n7:24 And from thence he arose, and went into the borders of Tyre and\\r\\nSidon, and entered into an house, and would have no man know it: but\\r\\nhe could not be hid.\\r\\n\\r\\n7:25 For a certain woman, whose young daughter had an unclean spirit,\\r\\nheard of him, and came and fell at his feet: 7:26 The woman was a\\r\\nGreek, a Syrophenician by nation; and she besought him that he would\\r\\ncast forth the devil out of her daughter.'), Document(id='f439ab5f-352c-4ffd-901d-a9054682ab7d', metadata={'source': 'your_source'}, page_content='23:33 Ye serpents, ye generation of vipers, how can ye escape the\\r\\ndamnation of hell? 23:34 Wherefore, behold, I send unto you prophets,\\r\\nand wise men, and scribes: and some of them ye shall kill and crucify;\\r\\nand some of them shall ye scourge in your synagogues, and persecute\\r\\nthem from city to city: 23:35 That upon you may come all the righteous\\r\\nblood shed upon the earth, from the blood of righteous Abel unto the\\r\\nblood of Zacharias son of Barachias, whom ye slew between the temple'), Document(id='a18270b1-dd1f-4add-ae7d-d49e026da809', metadata={'source': 'your_source'}, page_content='called Melita.\\r\\n\\r\\n28:2 And the barbarous people shewed us no little kindness: for they\\r\\nkindled a fire, and received us every one, because of the present\\r\\nrain, and because of the cold.\\r\\n\\r\\n28:3 And when Paul had gathered a bundle of sticks, and laid them on\\r\\nthe fire, there came a viper out of the heat, and fastened on his\\r\\nhand.\\r\\n\\r\\n28:4 And when the barbarians saw the venomous beast hang on his hand,\\r\\nthey said among themselves, No doubt this man is a murderer, whom,'), Document(id='07aeaded-c1e9-4de1-b382-4c82bc24ad0a', metadata={'source': 'your_source'}, page_content='even unto the hyssop that springeth out of the wall: he spake also of\\r\\nbeasts, and of fowl, and of creeping things, and of fishes.\\r\\n\\r\\n4:34 And there came of all people to hear the wisdom of Solomon, from\\r\\nall kings of the earth, which had heard of his wisdom.\\r\\n\\r\\n5:1 And Hiram king of Tyre sent his servants unto Solomon; for he had\\r\\nheard that they had anointed him king in the room of his father: for\\r\\nHiram was ever a lover of David.'), Document(id='82f89154-1afc-46d6-8f98-fd3f0c8e84cd', metadata={'source': 'your_source'}, page_content='30:6 The burden of the beasts of the south: into the land of trouble\\r\\nand anguish, from whence come the young and old lion, the viper and\\r\\nfiery flying serpent, they will carry their riches upon the shoulders\\r\\nof young asses, and their treasures upon the bunches of camels, to a\\r\\npeople that shall not profit them.\\r\\n\\r\\n30:7 For the Egyptians shall help in vain, and to no purpose:\\r\\ntherefore have I cried concerning this, Their strength is to sit\\r\\nstill.'), Document(id='5ef0b6d3-617c-4d86-807e-793f2d50a94c', metadata={'source': 'your_source'}, page_content='hundred and threescore days.\\r\\n\\r\\n12:7 And there was war in heaven: Michael and his angels fought\\r\\nagainst the dragon; and the dragon fought and his angels, 12:8 And\\r\\nprevailed not; neither was their place found any more in heaven.\\r\\n\\r\\n12:9 And the great dragon was cast out, that old serpent, called the\\r\\nDevil, and Satan, which deceiveth the whole world: he was cast out\\r\\ninto the earth, and his angels were cast out with him.\\r\\n\\r\\n12:10 And I heard a loud voice saying in heaven, Now is come'), Document(id='0955e162-546f-49af-89df-9739e30a24ec', metadata={'source': 'your_source'}, page_content='found the man, out of whom the devils were departed, sitting at the\\r\\nfeet of Jesus, clothed, and in his right mind: and they were afraid.\\r\\n\\r\\n8:36 They also which saw it told them by what means he that was\\r\\npossessed of the devils was healed.\\r\\n\\r\\n8:37 Then the whole multitude of the country of the Gadarenes round\\r\\nabout besought him to depart from them; for they were taken with great\\r\\nfear: and he went up into the ship, and returned back again.'), Document(id='26170523-cefa-42c8-a473-94760bed0598', metadata={'source': 'your_source'}, page_content='deadly wound was healed: and all the world wondered after the beast.\\r\\n\\r\\n13:4 And they worshipped the dragon which gave power unto the beast:\\r\\nand they worshipped the beast, saying, Who is like unto the beast? who\\r\\nis able to make war with him? 13:5 And there was given unto him a\\r\\nmouth speaking great things and blasphemies; and power was given unto\\r\\nhim to continue forty and two months.\\r\\n\\r\\n13:6 And he opened his mouth in blasphemy against God, to blaspheme')]\n",
            "\n",
            "Вопрос: Who was the serpent?\n",
            "\n",
            "Ответ: 'here is the beast.\n",
            "\n",
            "The answer and the snake.\n",
            "--------------------------------------------------\n"
          ]
        }
      ],
      "source": [
        "# --- 7. Тестирование RAG-системы ---\n",
        "\n",
        "print(\"\\n--- Тестирование RAG-системы ---\")\n",
        "\n",
        "# Вопрос 1: Вопрос, на который есть ответ в тексте\n",
        "question1 = \"Why James decided to runaway?\"\n",
        "print(f\"Вопрос: {question1}\")\n",
        "response1 = rag_chain.invoke(question1)\n",
        "print(f\"Ответ: {response1}\")\n",
        "print(\"-\" * 50)\n",
        "\n",
        "# Вопрос 2: Вопрос о персонаже\n",
        "question2 = \"What were the names of Adam's' sons?\"\n",
        "print(f\"Вопрос: {question2}\")\n",
        "response2 = rag_chain.invoke(question2)\n",
        "print(f\"Ответ: {response2}\")\n",
        "print(\"-\" * 50)\n",
        "\n",
        "# # Вопрос 3: Вопрос, на который, возможно, нет прямого ответа в контексте\n",
        "question3 = \"Who is Moses?\"\n",
        "print(f\"Вопрос: {question3}\")\n",
        "response3 = rag_chain.invoke(question3)\n",
        "print(f\"Ответ: {response3}\")\n",
        "print(\"-\" * 50)\n",
        "\n",
        "# # Вопрос 4: Вопрос о деталях сюжета\n",
        "question4 = \"Who was the serpent?\"\n",
        "print(f\"Вопрос: {question4}\")\n",
        "response4 = rag_chain.invoke(question4)\n",
        "print(f\"Ответ: {response4}\")\n",
        "print(\"-\" * 50)\n"
      ]
    },
    {
      "cell_type": "code",
      "execution_count": 14,
      "metadata": {
        "id": "8JXaZlwK2hM5",
        "outputId": "029166a8-fbd5-46aa-f297-1f2a1ac34786",
        "colab": {
          "base_uri": "https://localhost:8080/"
        }
      },
      "outputs": [
        {
          "output_type": "stream",
          "name": "stdout",
          "text": [
            "Вопрос: What was Nebuchadnezzar?\n",
            "Ответ: Используй следующий контекст, чтобы ответить на вопрос пользователя. \n",
            "Если ты не знаешь ответа, просто скажи, что не можешь найти информацию в предоставленном контексте.\n",
            " Не придумывай ответ если не знаешь.\n",
            "\n",
            "Контекст:\n",
            "[Document(id='9e73738b-106b-4509-b9f0-46da85c21610', metadata={'source': 'your_source'}, page_content='Nebuchadrezzar king of Babylon, a king of kings, from the north, with\\r\\nhorses, and with chariots, and with horsemen, and companies, and much\\r\\npeople.\\r\\n\\r\\n26:8 He shall slay with the sword thy daughters in the field: and he\\r\\nshall make a fort against thee, and cast a mount against thee, and\\r\\nlift up the buckler against thee.\\r\\n\\r\\n26:9 And he shall set engines of war against thy walls, and with his\\r\\naxes he shall break down thy towers.'), Document(id='a88d9fbd-f863-4cb9-b1e9-43b35343fd00', metadata={'source': 'your_source'}, page_content='reigned in Jerusalem three months. And his mother’s name was Nehushta,\\r\\nthe daughter of Elnathan of Jerusalem.\\r\\n\\r\\n24:9 And he did that which was evil in the sight of the LORD,\\r\\naccording to all that his father had done.\\r\\n\\r\\n24:10 At that time the servants of Nebuchadnezzar king of Babylon came\\r\\nup against Jerusalem, and the city was besieged.\\r\\n\\r\\n24:11 And Nebuchadnezzar king of Babylon came against the city, and\\r\\nhis servants did besiege it.'), Document(id='5100aaf7-3a28-4ecc-85ef-492b9c8bc440', metadata={'source': 'your_source'}, page_content='Nebuchadrezzar king of Babylon, and he shall take it: 32:29 And the\\r\\nChaldeans, that fight against this city, shall come and set fire on\\r\\nthis city, and burn it with the houses, upon whose roofs they have\\r\\noffered incense unto Baal, and poured out drink offerings unto other\\r\\ngods, to provoke me to anger.\\r\\n\\r\\n32:30 For the children of Israel and the children of Judah have only\\r\\ndone evil before me from their youth: for the children of Israel have'), Document(id='6cfa8636-b3b5-492d-89d8-f15e61d24934', metadata={'source': 'your_source'}, page_content='the eyes of Zedekiah, and bound him with fetters of brass, and carried\\r\\nhim to Babylon.\\r\\n\\r\\n25:8 And in the fifth month, on the seventh day of the month, which is\\r\\nthe nineteenth year of king Nebuchadnezzar king of Babylon, came\\r\\nNebuzaradan, captain of the guard, a servant of the king of Babylon,\\r\\nunto Jerusalem: 25:9 And he burnt the house of the LORD, and the\\r\\nking’s house, and all the houses of Jerusalem, and every great man’s\\r\\nhouse burnt he with fire.'), Document(id='38ade515-8b7b-4181-b093-a2c72298c7fc', metadata={'source': 'your_source'}, page_content='gifts, and made him ruler over the whole province of Babylon, and\\r\\nchief of the governors over all the wise men of Babylon.\\r\\n\\r\\n2:49 Then Daniel requested of the king, and he set Shadrach, Meshach,\\r\\nand Abednego, over the affairs of the province of Babylon: but Daniel\\r\\nsat in the gate of the king.\\r\\n\\r\\n3:1 Nebuchadnezzar the king made an image of gold, whose height was\\r\\nthreescore cubits, and the breadth thereof six cubits: he set it up in\\r\\nthe plain of Dura, in the province of Babylon.'), Document(id='8712dd36-dc71-48a0-b9a9-e557e36b759a', metadata={'source': 'your_source'}, page_content='away captives, and to the priests, and to the prophets, and to all the\\r\\npeople whom Nebuchadnezzar had carried away captive from Jerusalem to\\r\\nBabylon; 29:2 (After that Jeconiah the king, and the queen, and the\\r\\neunuchs, the princes of Judah and Jerusalem, and the carpenters, and\\r\\nthe smiths, were departed from Jerusalem;) 29:3 By the hand of Elasah\\r\\nthe son of Shaphan, and Gemariah the son of Hilkiah, (whom Zedekiah\\r\\nking of Judah sent unto Babylon to Nebuchadnezzar king of Babylon)'), Document(id='ad9abc8a-bf89-4e16-9658-443e45942b8b', metadata={'source': 'your_source'}, page_content='the plain of Dura, in the province of Babylon.\\r\\n\\r\\n3:2 Then Nebuchadnezzar the king sent to gather together the princes,\\r\\nthe governors, and the captains, the judges, the treasurers, the\\r\\ncounsellors, the sheriffs, and all the rulers of the provinces, to\\r\\ncome to the dedication of the image which Nebuchadnezzar the king had\\r\\nset up.\\r\\n\\r\\n3:3 Then the princes, the governors, and captains, the judges, the\\r\\ntreasurers, the counsellors, the sheriffs, and all the rulers of the'), Document(id='d80823fd-71d4-4c66-beb5-63fad78f5a4f', metadata={'source': 'your_source'}, page_content='provinces, were gathered together unto the dedication of the image\\r\\nthat Nebuchadnezzar the king had set up; and they stood before the\\r\\nimage that Nebuchadnezzar had set up.\\r\\n\\r\\n3:4 Then an herald cried aloud, To you it is commanded, O people,\\r\\nnations, and languages, 3:5 That at what time ye hear the sound of the\\r\\ncornet, flute, harp, sackbut, psaltery, dulcimer, and all kinds of\\r\\nmusick, ye fall down and worship the golden image that Nebuchadnezzar'), Document(id='a724f534-9b21-4a91-ac70-84cff3301b2d', metadata={'source': 'your_source'}, page_content='27:20 Which Nebuchadnezzar king of Babylon took not, when he carried\\r\\naway captive Jeconiah the son of Jehoiakim king of Judah from\\r\\nJerusalem to Babylon, and all the nobles of Judah and Jerusalem; 27:21\\r\\nYea, thus saith the LORD of hosts, the God of Israel, concerning the\\r\\nvessels that remain in the house of the LORD, and in the house of the\\r\\nking of Judah and of Jerusalem; 27:22 They shall be carried to\\r\\nBabylon, and there shall they be until the day that I visit them,'), Document(id='44fe8545-2da8-4da2-8b86-68c3b7383d2a', metadata={'source': 'your_source'}, page_content='after this sort.\\r\\n\\r\\n3:30 Then the king promoted Shadrach, Meshach, and Abednego, in the\\r\\nprovince of Babylon.\\r\\n\\r\\n4:1 Nebuchadnezzar the king, unto all people, nations, and languages,\\r\\nthat dwell in all the earth; Peace be multiplied unto you.\\r\\n\\r\\n4:2 I thought it good to shew the signs and wonders that the high God\\r\\nhath wrought toward me.\\r\\n\\r\\n4:3 How great are his signs! and how mighty are his wonders! his\\r\\nkingdom is an everlasting kingdom, and his dominion is from generation\\r\\nto generation.'), Document(id='7e06349f-4968-419e-8177-2eba5cc9cbb4', metadata={'source': 'your_source'}, page_content='evil in the sight of the LORD his God.\\r\\n\\r\\n36:6 Against him came up Nebuchadnezzar king of Babylon, and bound him\\r\\nin fetters, to carry him to Babylon.\\r\\n\\r\\n36:7 Nebuchadnezzar also carried of the vessels of the house of the\\r\\nLORD to Babylon, and put them in his temple at Babylon.\\r\\n\\r\\n36:8 Now the rest of the acts of Jehoiakim, and his abominations which\\r\\nhe did, and that which was found in him, behold, they are written in\\r\\nthe book of the kings of Israel and Judah: and Jehoiachin his son'), Document(id='5bbb9cf3-5b69-4a07-ad7a-719dbbb06c15', metadata={'source': 'your_source'}, page_content='certain, and the interpretation thereof sure.\\r\\n\\r\\n2:46 Then the king Nebuchadnezzar fell upon his face, and worshipped\\r\\nDaniel, and commanded that they should offer an oblation and sweet\\r\\nodours unto him.\\r\\n\\r\\n2:47 The king answered unto Daniel, and said, Of a truth it is, that\\r\\nyour God is a God of gods, and a Lord of kings, and a revealer of\\r\\nsecrets, seeing thou couldest reveal this secret.\\r\\n\\r\\n2:48 Then the king made Daniel a great man, and gave him many great'), Document(id='a25d7794-bc35-42dd-959d-17361e777d0a', metadata={'source': 'your_source'}, page_content='not careful to answer thee in this matter.\\r\\n\\r\\n3:17 If it be so, our God whom we serve is able to deliver us from the\\r\\nburning fiery furnace, and he will deliver us out of thine hand, O\\r\\nking.\\r\\n\\r\\n3:18 But if not, be it known unto thee, O king, that we will not serve\\r\\nthy gods, nor worship the golden image which thou hast set up.\\r\\n\\r\\n3:19 Then was Nebuchadnezzar full of fury, and the form of his visage\\r\\nwas changed against Shadrach, Meshach, and Abednego: therefore he'), Document(id='88bd7afb-81a1-43a7-b7e7-6a8d19813345', metadata={'source': 'your_source'}, page_content='them to the king of Babylon to Riblah.\\r\\n\\r\\n52:27 And the king of Babylon smote them, and put them to death in\\r\\nRiblah in the land of Hamath. Thus Judah was carried away captive out\\r\\nof his own land.\\r\\n\\r\\n52:28 This is the people whom Nebuchadrezzar carried away captive: in\\r\\nthe seventh year three thousand Jews and three and twenty: 52:29 In\\r\\nthe eighteenth year of Nebuchadrezzar he carried away captive from\\r\\nJerusalem eight hundred thirty and two persons: 52:30 In the three and'), Document(id='71fb7f2f-5e30-45c1-b31a-093f26faacaa', metadata={'source': 'your_source'}, page_content='twentieth year of Nebuchadrezzar Nebuzaradan the captain of the guard\\r\\ncarried away captive of the Jews seven hundred forty and five persons:\\r\\nall the persons were four thousand and six hundred.\\r\\n\\r\\n52:31 And it came to pass in the seven and thirtieth year of the\\r\\ncaptivity of Jehoiachin king of Judah, in the twelfth month, in the\\r\\nfive and twentieth day of the month, that Evilmerodach king of Babylon\\r\\nin the first year of his reign lifted up the head of Jehoiachin king'), Document(id='18cc0656-87ab-4eec-8c11-fcadf3e415e5', metadata={'source': 'your_source'}, page_content='Hamutal, the daughter of Jeremiah of Libnah.\\r\\n\\r\\n24:19 And he did that which was evil in the sight of the LORD,\\r\\naccording to all that Jehoiakim had done.\\r\\n\\r\\n24:20 For through the anger of the LORD it came to pass in Jerusalem\\r\\nand Judah, until he had cast them out from his presence, that Zedekiah\\r\\nrebelled against the king of Babylon.\\r\\n\\r\\n25:1 And it came to pass in the ninth year of his reign, in the tenth\\r\\nmonth, in the tenth day of the month, that Nebuchadnezzar king of'), Document(id='f15426ef-4dd7-4d40-bf38-919c8978d95b', metadata={'source': 'your_source'}, page_content='Thus saith the LORD of hosts, the God of Israel; Behold, I will send\\r\\nand take Nebuchadrezzar the king of Babylon, my servant, and will set\\r\\nhis throne upon these stones that I have hid; and he shall spread his\\r\\nroyal pavilion over them.\\r\\n\\r\\n43:11 And when he cometh, he shall smite the land of Egypt, and\\r\\ndeliver such as are for death to death; and such as are for captivity\\r\\nto captivity; and such as are for the sword to the sword.'), Document(id='439b22b5-3a00-4670-b570-c7de29683b59', metadata={'source': 'your_source'}, page_content='to generation.\\r\\n\\r\\n4:4 I Nebuchadnezzar was at rest in mine house, and flourishing in my\\r\\npalace: 4:5 I saw a dream which made me afraid, and the thoughts upon\\r\\nmy bed and the visions of my head troubled me.\\r\\n\\r\\n4:6 Therefore made I a decree to bring in all the wise men of Babylon\\r\\nbefore me, that they might make known unto me the interpretation of\\r\\nthe dream.\\r\\n\\r\\n4:7 Then came in the magicians, the astrologers, the Chaldeans, and'), Document(id='b6e33e69-74de-4cd8-b916-dad5b123f419', metadata={'source': 'your_source'}, page_content='Ner, captain of the host of Israel, and Amasa the son of Jether,\\r\\ncaptain of the host of Judah.\\r\\n\\r\\n2:33 Their blood shall therefore return upon the head of Joab, and\\r\\nupon the head of his seed for ever: but upon David, and upon his seed,\\r\\nand upon his house, and upon his throne, shall there be peace for ever\\r\\nfrom the LORD.\\r\\n\\r\\n2:34 So Benaiah the son of Jehoiada went up, and fell upon him, and\\r\\nslew him: and he was buried in his own house in the wilderness.'), Document(id='73b6ed7a-c2d1-4b96-8056-0d2fab5a0e91', metadata={'source': 'your_source'}, page_content='Zebudah, the daughter of Pedaiah of Rumah.\\r\\n\\r\\n23:37 And he did that which was evil in the sight of the LORD,\\r\\naccording to all that his fathers had done.\\r\\n\\r\\n24:1 In his days Nebuchadnezzar king of Babylon came up, and Jehoiakim\\r\\nbecame his servant three years: then he turned and rebelled against\\r\\nhim.\\r\\n\\r\\n24:2 And the LORD sent against him bands of the Chaldees, and bands of\\r\\nthe Syrians, and bands of the Moabites, and bands of the children of'), Document(id='994fb3b4-7c06-4c20-9de8-09ac9463e2a5', metadata={'source': 'your_source'}, page_content='province of Babylon, Shadrach, Meshach, and Abednego; these men, O\\r\\nking, have not regarded thee: they serve not thy gods, nor worship the\\r\\ngolden image which thou hast set up.\\r\\n\\r\\n3:13 Then Nebuchadnezzar in his rage and fury commanded to bring\\r\\nShadrach, Meshach, and Abednego. Then they brought these men before\\r\\nthe king.\\r\\n\\r\\n3:14 Nebuchadnezzar spake and said unto them, Is it true, O Shadrach,\\r\\nMeshach, and Abednego, do not ye serve my gods, nor worship the golden'), Document(id='c446093f-fbfe-4d4c-be30-83f108d25fbe', metadata={'source': 'your_source'}, page_content='Judah into the hand of Nebuchadrezzar king of Babylon, his enemy, and\\r\\nthat sought his life.\\r\\n\\r\\n45:1 The word that Jeremiah the prophet spake unto Baruch the son of\\r\\nNeriah, when he had written these words in a book at the mouth of\\r\\nJeremiah, in the fourth year of Jehoiakim the son of Josiah king of\\r\\nJudah, saying, 45:2 Thus saith the LORD, the God of Israel, unto thee,\\r\\nO Baruch: 45:3 Thou didst say, Woe is me now! for the LORD hath added'), Document(id='046928b0-cb49-40fa-a722-ce75756bf4aa', metadata={'source': 'your_source'}, page_content='and reigned eleven years in Jerusalem.\\r\\n\\r\\n36:12 And he did that which was evil in the sight of the LORD his God,\\r\\nand humbled not himself before Jeremiah the prophet speaking from the\\r\\nmouth of the LORD.\\r\\n\\r\\n36:13 And he also rebelled against king Nebuchadnezzar, who had made\\r\\nhim swear by God: but he stiffened his neck, and hardened his heart\\r\\nfrom turning unto the LORD God of Israel.\\r\\n\\r\\n36:14 Moreover all the chief of the priests, and the people,'), Document(id='f4332c13-f0da-4d3a-bacf-d9ffff5f7eb1', metadata={'source': 'your_source'}, page_content='mustered the people of the land, and threescore men of the people of\\r\\nthe land that were found in the city: 25:20 And Nebuzaradan captain of\\r\\nthe guard took these, and brought them to the king of Babylon to\\r\\nRiblah: 25:21 And the king of Babylon smote them, and slew them at\\r\\nRiblah in the land of Hamath. So Judah was carried away out of their\\r\\nland.\\r\\n\\r\\n25:22 And as for the people that remained in the land of Judah, whom\\r\\nNebuchadnezzar king of Babylon had left, even over them he made'), Document(id='3aa1b4b7-7d23-4a2a-81f1-d7f3415c2b33', metadata={'source': 'your_source'}, page_content='46:1 The word of the LORD which came to Jeremiah the prophet against\\r\\nthe Gentiles; 46:2 Against Egypt, against the army of Pharaohnecho\\r\\nking of Egypt, which was by the river Euphrates in Carchemish, which\\r\\nNebuchadrezzar king of Babylon smote in the fourth year of Jehoiakim\\r\\nthe son of Josiah king of Judah.\\r\\n\\r\\n46:3 Order ye the buckler and shield, and draw near to battle.\\r\\n\\r\\n46:4 Harness the horses; and get up, ye horsemen, and stand forth with'), Document(id='d87ffa96-eb4d-4490-bc82-75e08c57f61b', metadata={'source': 'your_source'}, page_content='into Babylon the remnant of the people that remained in the city, and\\r\\nthose that fell away, that fell to him, with the rest of the people\\r\\nthat remained.\\r\\n\\r\\n39:10 But Nebuzaradan the captain of the guard left of the poor of the\\r\\npeople, which had nothing, in the land of Judah, and gave them\\r\\nvineyards and fields at the same time.\\r\\n\\r\\n39:11 Now Nebuchadrezzar king of Babylon gave charge concerning\\r\\nJeremiah to Nebuzaradan the captain of the guard, saying, 39:12 Take'), Document(id='a4dbc091-4029-4a81-b0ba-c517b94fe11d', metadata={'source': 'your_source'}, page_content='be clothed with scarlet, and have a chain of gold about thy neck, and\\r\\nshalt be the third ruler in the kingdom.\\r\\n\\r\\n5:17 Then Daniel answered and said before the king, Let thy gifts be\\r\\nto thyself, and give thy rewards to another; yet I will read the\\r\\nwriting unto the king, and make known to him the interpretation.\\r\\n\\r\\n5:18 O thou king, the most high God gave Nebuchadnezzar thy father a\\r\\nkingdom, and majesty, and glory, and honour: 5:19 And for the majesty'), Document(id='25b70426-4ab7-4d43-9275-26403a53d5b8', metadata={'source': 'your_source'}, page_content='Hamutal the daughter of Jeremiah of Libnah.\\r\\n\\r\\n52:2 And he did that which was evil in the eyes of the LORD, according\\r\\nto all that Jehoiakim had done.\\r\\n\\r\\n52:3 For through the anger of the LORD it came to pass in Jerusalem\\r\\nand Judah, till he had cast them out from his presence, that Zedekiah\\r\\nrebelled against the king of Babylon.\\r\\n\\r\\n52:4 And it came to pass in the ninth year of his reign, in the tenth\\r\\nmonth, in the tenth day of the month, that Nebuchadrezzar king of'), Document(id='cf502c30-ad44-4280-9356-a7e2feca6d5e', metadata={'source': 'your_source'}, page_content='province, that went up out of the captivity, of those that had been\\r\\ncarried away, whom Nebuchadnezzar the king of Babylon had carried\\r\\naway, and came again to Jerusalem and to Judah, every one unto his\\r\\ncity; 7:7 Who came with Zerubbabel, Jeshua, Nehemiah, Azariah,\\r\\nRaamiah, Nahamani, Mordecai, Bilshan, Mispereth, Bigvai, Nehum,\\r\\nBaanah. The number, I say, of the men of the people of Israel was\\r\\nthis; 7:8 The children of Parosh, two thousand an hundred seventy and\\r\\ntwo.'), Document(id='e62f0a04-96f0-4a9c-aef1-b2a5709195f7', metadata={'source': 'your_source'}, page_content='Therefore her young men shall fall in her streets, and all the men of\\r\\nwar shall be cut off in that day, saith the LORD of hosts.\\r\\n\\r\\n49:27 And I will kindle a fire in the wall of Damascus, and it shall\\r\\nconsume the palaces of Benhadad.\\r\\n\\r\\n49:28 Concerning Kedar, and concerning the kingdoms of Hazor, which\\r\\nNebuchadrezzar king of Babylon shall smite, thus saith the LORD; Arise\\r\\nye, go up to Kedar, and spoil the men of the east.')]\n",
            "\n",
            "Вопрос: What was Nebuchadnezzar?\n",
            "\n",
            "Ответ: 'a2, and also read the text.'\n",
            "\n",
            "This is the document and his servants, and came up the city of Babylon.'\n",
            "--------------------------------------------------\n"
          ]
        }
      ],
      "source": [
        "\n",
        "# Пример 5: Вопрос о деталях сюжета\n",
        "question5 = \"What was Nebuchadnezzar?\"\n",
        "print(f\"Вопрос: {question5}\")\n",
        "response5 = rag_chain.invoke(question5)\n",
        "print(f\"Ответ: {response5}\")\n",
        "print(\"-\" * 50)\n"
      ]
    },
    {
      "cell_type": "code",
      "execution_count": 15,
      "metadata": {
        "id": "xwEgW4OFiUKQ",
        "outputId": "0b7db89a-627a-4c99-fabf-b973d741a06d",
        "colab": {
          "base_uri": "https://localhost:8080/"
        }
      },
      "outputs": [
        {
          "output_type": "stream",
          "name": "stdout",
          "text": [
            "Вопрос: What was a name of Adam's wife\n",
            "Ответ: Используй следующий контекст, чтобы ответить на вопрос пользователя. \n",
            "Если ты не знаешь ответа, просто скажи, что не можешь найти информацию в предоставленном контексте.\n",
            " Не придумывай ответ если не знаешь.\n",
            "\n",
            "Контекст:\n",
            "[Document(id='98017bd5-4afe-4020-a34f-2737cc704456', metadata={'source': 'your_source'}, page_content='her husband with her; and he did eat.\\r\\n\\r\\n3:7 And the eyes of them both were opened, and they knew that they\\r\\nwere naked; and they sewed fig leaves together, and made themselves\\r\\naprons.\\r\\n\\r\\n3:8 And they heard the voice of the LORD God walking in the garden in\\r\\nthe cool of the day: and Adam and his wife hid themselves from the\\r\\npresence of the LORD God amongst the trees of the garden.\\r\\n\\r\\n3:9 And the LORD God called unto Adam, and said unto him, Where art'), Document(id='055cbd56-041b-47f3-8181-caba2727e79d', metadata={'source': 'your_source'}, page_content='sevenfold.\\r\\n\\r\\n4:25 And Adam knew his wife again; and she bare a son, and called his\\r\\nname Seth: For God, said she, hath appointed me another seed instead\\r\\nof Abel, whom Cain slew.\\r\\n\\r\\n4:26 And to Seth, to him also there was born a son; and he called his\\r\\nname Enos: then began men to call upon the name of the LORD.\\r\\n\\r\\n5:1 This is the book of the generations of Adam. In the day that God\\r\\ncreated man, in the likeness of God made he him; 5:2 Male and female'), Document(id='3bb1b1f2-599a-42bc-a21a-5d7b5acb042e', metadata={'source': 'your_source'}, page_content='created he them; and blessed them, and called their name Adam, in the\\r\\nday when they were created.\\r\\n\\r\\n5:3 And Adam lived an hundred and thirty years, and begat a son in his\\r\\nown likeness, and after his image; and called his name Seth: 5:4 And\\r\\nthe days of Adam after he had begotten Seth were eight hundred years:\\r\\nand he begat sons and daughters: 5:5 And all the days that Adam lived\\r\\nwere nine hundred and thirty years: and he died.'), Document(id='3c2c71f4-9744-42a3-86b5-64faf92a907b', metadata={'source': 'your_source'}, page_content='that findeth me shall slay me.\\r\\n\\r\\n4:15 And the LORD said unto him, Therefore whosoever slayeth Cain,\\r\\nvengeance shall be taken on him sevenfold. And the LORD set a mark\\r\\nupon Cain, lest any finding him should kill him.\\r\\n\\r\\n4:16 And Cain went out from the presence of the LORD, and dwelt in the\\r\\nland of Nod, on the east of Eden.\\r\\n\\r\\n4:17 And Cain knew his wife; and she conceived, and bare Enoch: and he\\r\\nbuilded a city, and called the name of the city, after the name of his\\r\\nson, Enoch.'), Document(id='633d4419-2554-41e6-95dc-117f1dd15458', metadata={'source': 'your_source'}, page_content='the way of the tree of life.\\r\\n\\r\\n4:1 And Adam knew Eve his wife; and she conceived, and bare Cain, and\\r\\nsaid, I have gotten a man from the LORD.\\r\\n\\r\\n4:2 And she again bare his brother Abel. And Abel was a keeper of\\r\\nsheep, but Cain was a tiller of the ground.\\r\\n\\r\\n4:3 And in process of time it came to pass, that Cain brought of the\\r\\nfruit of the ground an offering unto the LORD.\\r\\n\\r\\n4:4 And Abel, he also brought of the firstlings of his flock and of'), Document(id='029c8a0e-e6c5-443d-9418-e801296429c7', metadata={'source': 'your_source'}, page_content='Abigail the wife of Nabal the Carmelite; and the third, Absalom the\\r\\nson of Maacah the daughter of Talmai king of Geshur; 3:4 And the\\r\\nfourth, Adonijah the son of Haggith; and the fifth, Shephatiah the son\\r\\nof Abital; 3:5 And the sixth, Ithream, by Eglah David’s wife. These\\r\\nwere born to David in Hebron.\\r\\n\\r\\n3:6 And it came to pass, while there was war between the house of Saul\\r\\nand the house of David, that Abner made himself strong for the house\\r\\nof Saul.'), Document(id='8981cf07-e8dd-41df-b080-14a055eaa0a4', metadata={'source': 'your_source'}, page_content='help meet for him.\\r\\n\\r\\n2:21 And the LORD God caused a deep sleep to fall upon Adam, and he\\r\\nslept: and he took one of his ribs, and closed up the flesh instead\\r\\nthereof; 2:22 And the rib, which the LORD God had taken from man, made\\r\\nhe a woman, and brought her unto the man.\\r\\n\\r\\n2:23 And Adam said, This is now bone of my bones, and flesh of my\\r\\nflesh: she shall be called Woman, because she was taken out of Man.\\r\\n\\r\\n2:24 Therefore shall a man leave his father and his mother, and shall'), Document(id='de9bf827-f164-4ac3-b42c-e58748221f76', metadata={'source': 'your_source'}, page_content='which was the son of Heber, which was the son of Sala, 3:36 Which was\\r\\nthe son of Cainan, which was the son of Arphaxad, which was the son of\\r\\nSem, which was the son of Noe, which was the son of Lamech, 3:37 Which\\r\\nwas the son of Mathusala, which was the son of Enoch, which was the\\r\\nson of Jared, which was the son of Maleleel, which was the son of\\r\\nCainan, 3:38 Which was the son of Enos, which was the son of Seth,\\r\\nwhich was the son of Adam, which was the son of God.'), Document(id='898cb7e1-ffc8-4a68-8397-3d1a6f7365c9', metadata={'source': 'your_source'}, page_content='4:8 And Cain talked with Abel his brother: and it came to pass, when\\r\\nthey were in the field, that Cain rose up against Abel his brother,\\r\\nand slew him.\\r\\n\\r\\n4:9 And the LORD said unto Cain, Where is Abel thy brother? And he\\r\\nsaid, I know not: Am I my brother’s keeper? 4:10 And he said, What\\r\\nhast thou done? the voice of thy brother’s blood crieth unto me from\\r\\nthe ground.\\r\\n\\r\\n4:11 And now art thou cursed from the earth, which hath opened her'), Document(id='2dbd7123-dd87-4eb8-b707-13dc1d11b894', metadata={'source': 'your_source'}, page_content='alone; I will make him an help meet for him.\\r\\n\\r\\n2:19 And out of the ground the LORD God formed every beast of the\\r\\nfield, and every fowl of the air; and brought them unto Adam to see\\r\\nwhat he would call them: and whatsoever Adam called every living\\r\\ncreature, that was the name thereof.\\r\\n\\r\\n2:20 And Adam gave names to all cattle, and to the fowl of the air,\\r\\nand to every beast of the field; but for Adam there was not found an\\r\\nhelp meet for him.'), Document(id='2e610f57-cbc6-4ff2-b3a6-7a03aa67988a', metadata={'source': 'your_source'}, page_content='there.\\r\\n\\r\\n1:3 And Elimelech Naomi’s husband died; and she was left, and her two\\r\\nsons.\\r\\n\\r\\n1:4 And they took them wives of the women of Moab; the name of the one\\r\\nwas Orpah, and the name of the other Ruth: and they dwelled there\\r\\nabout ten years.\\r\\n\\r\\n1:5 And Mahlon and Chilion died also both of them; and the woman was\\r\\nleft of her two sons and her husband.\\r\\n\\r\\n1:6 Then she arose with her daughters in law, that she might return'), Document(id='9f49a17c-879f-483e-8f58-00a4f2b829dd', metadata={'source': 'your_source'}, page_content='firstborn, and Bunah, and Oren, and Ozem, and Ahijah.\\r\\n\\r\\n2:26 Jerahmeel had also another wife, whose name was Atarah; she was\\r\\nthe mother of Onam.\\r\\n\\r\\n2:27 And the sons of Ram the firstborn of Jerahmeel were, Maaz, and\\r\\nJamin, and Eker.\\r\\n\\r\\n2:28 And the sons of Onam were, Shammai, and Jada. And the sons of\\r\\nShammai; Nadab and Abishur.\\r\\n\\r\\n2:29 And the name of the wife of Abishur was Abihail, and she bare him\\r\\nAhban, and Molid.'), Document(id='cc08ac9f-1be2-4299-802b-3be9ca641a07', metadata={'source': 'your_source'}, page_content='in sorrow shalt thou eat of it all the days of thy life; 3:18 Thorns\\r\\nalso and thistles shall it bring forth to thee; and thou shalt eat the\\r\\nherb of the field; 3:19 In the sweat of thy face shalt thou eat bread,\\r\\ntill thou return unto the ground; for out of it wast thou taken: for\\r\\ndust thou art, and unto dust shalt thou return.\\r\\n\\r\\n3:20 And Adam called his wife’s name Eve; because she was the mother\\r\\nof all living.\\r\\n\\r\\n3:21 Unto Adam also and to his wife did the LORD God make coats of'), Document(id='976c11fa-69d8-4b7e-b86b-19c907206162', metadata={'source': 'your_source'}, page_content='servants of my lord.\\r\\n\\r\\n25:42 And Abigail hasted, and arose and rode upon an ass, with five\\r\\ndamsels of hers that went after her; and she went after the messengers\\r\\nof David, and became his wife.\\r\\n\\r\\n25:43 David also took Ahinoam of Jezreel; and they were also both of\\r\\nthem his wives.\\r\\n\\r\\n25:44 But Saul had given Michal his daughter, David’s wife, to Phalti\\r\\nthe son of Laish, which was of Gallim.\\r\\n\\r\\n26:1 And the Ziphites came unto Saul to Gibeah, saying, Doth not David'), Document(id='5ed4c4dd-a612-4aad-847f-d26e633d1323', metadata={'source': 'your_source'}, page_content='mother, and was gone to Padanaram; 28:8 And Esau seeing that the\\r\\ndaughters of Canaan pleased not Isaac his father; 28:9 Then went Esau\\r\\nunto Ishmael, and took unto the wives which he had Mahalath the\\r\\ndaughter of Ishmael Abraham’s son, the sister of Nebajoth, to be his\\r\\nwife.\\r\\n\\r\\n28:10 And Jacob went out from Beersheba, and went toward Haran.\\r\\n\\r\\n28:11 And he lighted upon a certain place, and tarried there all\\r\\nnight, because the sun was set; and he took of the stones of that'), Document(id='3eece5de-753c-48dd-8c8e-8362db17b010', metadata={'source': 'your_source'}, page_content='the Philistines: and whithersoever he turned himself, he vexed them.\\r\\n\\r\\n14:48 And he gathered an host, and smote the Amalekites, and delivered\\r\\nIsrael out of the hands of them that spoiled them.\\r\\n\\r\\n14:49 Now the sons of Saul were Jonathan, and Ishui, and Melchishua:\\r\\nand the names of his two daughters were these; the name of the\\r\\nfirstborn Merab, and the name of the younger Michal: 14:50 And the\\r\\nname of Saul’s wife was Ahinoam, the daughter of Ahimaaz: and the name'), Document(id='4cbe5cd6-7818-4a15-880c-e6547e0d4ae7', metadata={'source': 'your_source'}, page_content='20:2 And Abraham said of Sarah his wife, She is my sister: and\\r\\nAbimelech king of Gerar sent, and took Sarah.\\r\\n\\r\\n20:3 But God came to Abimelech in a dream by night, and said to him,\\r\\nBehold, thou art but a dead man, for the woman which thou hast taken;\\r\\nfor she is a man’s wife.\\r\\n\\r\\n20:4 But Abimelech had not come near her: and he said, LORD, wilt thou\\r\\nslay also a righteous nation? 20:5 Said he not unto me, She is my\\r\\nsister? and she, even she herself said, He is my brother: in the'), Document(id='c8b3ef92-6c5b-41a9-a099-288988a7962c', metadata={'source': 'your_source'}, page_content='shall be of her.\\r\\n\\r\\n17:17 Then Abraham fell upon his face, and laughed, and said in his\\r\\nheart, Shall a child be born unto him that is an hundred years old?\\r\\nand shall Sarah, that is ninety years old, bear? 17:18 And Abraham\\r\\nsaid unto God, O that Ishmael might live before thee! 17:19 And God\\r\\nsaid, Sarah thy wife shall bear thee a son indeed; and thou shalt call\\r\\nhis name Isaac: and I will establish my covenant with him for an\\r\\neverlasting covenant, and with his seed after him.'), Document(id='f89f0285-0811-4443-b303-46412698e864', metadata={'source': 'your_source'}, page_content='11:18 And they arose out of Midian, and came to Paran: and they took\\r\\nmen with them out of Paran, and they came to Egypt, unto Pharaoh king\\r\\nof Egypt; which gave him an house, and appointed him victuals, and\\r\\ngave him land.\\r\\n\\r\\n11:19 And Hadad found great favour in the sight of Pharaoh, so that he\\r\\ngave him to wife the sister of his own wife, the sister of Tahpenes\\r\\nthe queen.\\r\\n\\r\\n11:20 And the sister of Tahpenes bare him Genubath his son, whom'), Document(id='d2dc5da0-73a7-401e-a7bc-7eae51681378', metadata={'source': 'your_source'}, page_content='5:6 And Seth lived an hundred and five years, and begat Enos: 5:7 And\\r\\nSeth lived after he begat Enos eight hundred and seven years, and\\r\\nbegat sons and daughters: 5:8 And all the days of Seth were nine\\r\\nhundred and twelve years: and he died.\\r\\n\\r\\n5:9 And Enos lived ninety years, and begat Cainan: 5:10 And Enos lived\\r\\nafter he begat Cainan eight hundred and fifteen years, and begat sons\\r\\nand daughters: 5:11 And all the days of Enos were nine hundred and\\r\\nfive years: and he died.'), Document(id='c6dae3fb-1f7e-405c-9678-db713d277208', metadata={'source': 'your_source'}, page_content='and thy wife, and thy sons, and thy sons’ wives with thee.\\r\\n\\r\\n8:17 Bring forth with thee every living thing that is with thee, of\\r\\nall flesh, both of fowl, and of cattle, and of every creeping thing\\r\\nthat creepeth upon the earth; that they may breed abundantly in the\\r\\nearth, and be fruitful, and multiply upon the earth.\\r\\n\\r\\n8:18 And Noah went forth, and his sons, and his wife, and his sons’\\r\\nwives with him: 8:19 Every beast, every creeping thing, and every'), Document(id='de65cf9a-42ee-495a-b12e-0314ebcf0037', metadata={'source': 'your_source'}, page_content='way of David and Solomon.\\r\\n\\r\\n11:18 And Rehoboam took him Mahalath the daughter of Jerimoth the son\\r\\nof David to wife, and Abihail the daughter of Eliab the son of Jesse;\\r\\n11:19 Which bare him children; Jeush, and Shamariah, and Zaham.\\r\\n\\r\\n11:20 And after her he took Maachah the daughter of Absalom; which\\r\\nbare him Abijah, and Attai, and Ziza, and Shelomith.\\r\\n\\r\\n11:21 And Rehoboam loved Maachah the daughter of Absalom above all his'), Document(id='b8422f16-b7b5-4d6a-ac72-ca5205223629', metadata={'source': 'your_source'}, page_content='son, Enoch.\\r\\n\\r\\n4:18 And unto Enoch was born Irad: and Irad begat Mehujael: and\\r\\nMehujael begat Methusael: and Methusael begat Lamech.\\r\\n\\r\\n4:19 And Lamech took unto him two wives: the name of the one was Adah,\\r\\nand the name of the other Zillah.\\r\\n\\r\\n4:20 And Adah bare Jabal: he was the father of such as dwell in tents,\\r\\nand of such as have cattle.\\r\\n\\r\\n4:21 And his brother’s name was Jubal: he was the father of all such\\r\\nas handle the harp and organ.'), Document(id='83f9d087-8bd3-4df3-ba48-5d4c14ec47fb', metadata={'source': 'your_source'}, page_content='1:55 As he spake to our fathers, to Abraham, and to his seed for ever.\\r\\n\\r\\n1:56 And Mary abode with her about three months, and returned to her\\r\\nown house.\\r\\n\\r\\n1:57 Now Elisabeth’s full time came that she should be delivered; and\\r\\nshe brought forth a son.\\r\\n\\r\\n1:58 And her neighbours and her cousins heard how the Lord had shewed\\r\\ngreat mercy upon her; and they rejoiced with her.\\r\\n\\r\\n1:59 And it came to pass, that on the eighth day they came to'), Document(id='d594d4b8-140e-457e-a748-6e0411a060d7', metadata={'source': 'your_source'}, page_content='night.\\r\\n\\r\\n30:17 And God hearkened unto Leah, and she conceived, and bare Jacob\\r\\nthe fifth son.\\r\\n\\r\\n30:18 And Leah said, God hath given me my hire, because I have given\\r\\nmy maiden to my husband: and she called his name Issachar.\\r\\n\\r\\n30:19 And Leah conceived again, and bare Jacob the sixth son.\\r\\n\\r\\n30:20 And Leah said, God hath endued me with a good dowry; now will my\\r\\nhusband dwell with me, because I have born him six sons: and she\\r\\ncalled his name Zebulun.'), Document(id='af9b6379-8312-4044-a579-f59c8fabd65f', metadata={'source': 'your_source'}, page_content='raise up seed unto his brother.\\r\\n\\r\\n22:25 Now there were with us seven brethren: and the first, when he\\r\\nhad married a wife, deceased, and, having no issue, left his wife unto\\r\\nhis brother: 22:26 Likewise the second also, and the third, unto the\\r\\nseventh.\\r\\n\\r\\n22:27 And last of all the woman died also.\\r\\n\\r\\n22:28 Therefore in the resurrection whose wife shall she be of the\\r\\nseven? for they all had her.\\r\\n\\r\\n22:29 Jesus answered and said unto them, Ye do err, not knowing the'), Document(id='71adfe62-83cb-4ef0-9b5e-b811aca76ff4', metadata={'source': 'your_source'}, page_content='upon the hearth.\\r\\n\\r\\n18:7 And Abraham ran unto the herd, and fetcht a calf tender and good,\\r\\nand gave it unto a young man; and he hasted to dress it.\\r\\n\\r\\n18:8 And he took butter, and milk, and the calf which he had dressed,\\r\\nand set it before them; and he stood by them under the tree, and they\\r\\ndid eat.\\r\\n\\r\\n18:9 And they said unto him, Where is Sarah thy wife? And he said,\\r\\nBehold, in the tent.\\r\\n\\r\\n18:10 And he said, I will certainly return unto thee according to the'), Document(id='d5db9a64-0e10-4e6e-9b42-d74690492efd', metadata={'source': 'your_source'}, page_content='Shelemiah, and Nathan, and Adaiah, 10:40 Machnadebai, Shashai, Sharai,\\r\\n10:41 Azareel, and Shelemiah, Shemariah, 10:42 Shallum, Amariah, and\\r\\nJoseph.\\r\\n\\r\\n10:43 Of the sons of Nebo; Jeiel, Mattithiah, Zabad, Zebina, Jadau,\\r\\nand Joel, Benaiah.\\r\\n\\r\\n10:44 All these had taken strange wives: and some of them had wives by\\r\\nwhom they had children.\\r\\n\\r\\n\\r\\n\\r\\n\\r\\nThe Book of Nehemiah\\r\\n\\r\\n\\r\\n1:1 The words of Nehemiah the son of Hachaliah. And it came to pass'), Document(id='24ee2acc-b3cd-4dac-b2f6-a69fb33b289f', metadata={'source': 'your_source'}, page_content='nativity, in Ur of the Chaldees.\\r\\n\\r\\n11:29 And Abram and Nahor took them wives: the name of Abram’s wife\\r\\nwas Sarai; and the name of Nahor’s wife, Milcah, the daughter of\\r\\nHaran, the father of Milcah, and the father of Iscah.\\r\\n\\r\\n11:30 But Sarai was barren; she had no child.\\r\\n\\r\\n11:31 And Terah took Abram his son, and Lot the son of Haran his son’s\\r\\nson, and Sarai his daughter in law, his son Abram’s wife; and they\\r\\nwent forth with them from Ur of the Chaldees, to go into the land of'), Document(id='cc0e5b87-8b7f-479f-a343-14dd6d4eebd9', metadata={'source': 'your_source'}, page_content='cleave to his wife; 10:8 And they twain shall be one flesh: so then\\r\\nthey are no more twain, but one flesh.\\r\\n\\r\\n10:9 What therefore God hath joined together, let not man put asunder.\\r\\n\\r\\n10:10 And in the house his disciples asked him again of the same\\r\\nmatter.\\r\\n\\r\\n10:11 And he saith unto them, Whosoever shall put away his wife, and\\r\\nmarry another, committeth adultery against her.\\r\\n\\r\\n10:12 And if a woman shall put away her husband, and be married to\\r\\nanother, she committeth adultery.')]\n",
            "\n",
            "Вопрос: What was a name of Adam's wife\n",
            "\n",
            "Ответ: 'good_a: 'good.\n",
            "\n",
            "**\n",
            "--------------------------------------------------\n"
          ]
        }
      ],
      "source": [
        "\n",
        "# Пример 5: Вопрос о деталях сюжета\n",
        "question5 = \"What was a name of Adam's wife\"\n",
        "print(f\"Вопрос: {question5}\")\n",
        "response5 = rag_chain.invoke(question5)\n",
        "print(f\"Ответ: {response5}\")\n",
        "print(\"-\" * 50)\n"
      ]
    },
    {
      "cell_type": "code",
      "execution_count": 16,
      "metadata": {
        "id": "D7f_mHmL2i-a",
        "outputId": "28970fac-88e7-4c42-ea96-d01bbd003df3",
        "colab": {
          "base_uri": "https://localhost:8080/"
        }
      },
      "outputs": [
        {
          "output_type": "stream",
          "name": "stdout",
          "text": [
            "\n",
            "Вывод по тестированию RAG-системы:\n",
            " - Система успешно извлекает релевантный контекст и генерирует ответы.\n",
            " - Для вопросов вне контекста базы знаний, LLM должна отвечать, что не может найти информацию.\n",
            "\n",
            "--- Концепция оценки и оптимизации конвейера RAG ---\n",
            "Для полноценной оценки RAG-системы требуются размеченные данные (вопросы, правильные ответы, релевантные чанки).\n",
            "Оптимизация включает эксперименты с параметрами разбиения на чанки, моделями эмбеддингов, LLM и промптами.\n",
            "Конфигурация RAG-системы сохранена в '/tmp/rag_config.json'.\n",
            "\n",
            "Вывод по сохранению артефактов:\n",
            " - Векторная база данных FAISS и конфигурация RAG-системы сохранены.\n",
            " - Эти файлы будут использоваться для инициализации RAG-системы в FastAPI, Gradio и Streamlit сервисах.\n"
          ]
        }
      ],
      "source": [
        "\n",
        "print(\"\\nВывод по тестированию RAG-системы:\")\n",
        "print(\" - Система успешно извлекает релевантный контекст и генерирует ответы.\")\n",
        "print(\" - Для вопросов вне контекста базы знаний, LLM должна отвечать, что не может найти информацию.\")\n",
        "\n",
        "#\n",
        "# ## 8. Оценка и оптимизация RAG-системы (концептуально)\n",
        "#\n",
        "# Оценка RAG-систем — это сложная задача, требующая как традиционных метрик NLP,\n",
        "# так и метрик, специфичных для качества генерации и получения информации.\n",
        "#\n",
        "# **Метрики оценки (концептуально):**\n",
        "# -   **Relevance (Релевантность):** Насколько ответ релевантен запросу.\n",
        "# -   **Faithfulness (Достоверность):** Насколько ответ основан на предоставленном контексте.\n",
        "# -   **Context Precision/Recall (Точность/Полнота контекста):** Насколько извлеченный контекст\n",
        "#     был релевантен и полон.\n",
        "# -   **Answer Correctness (Правильность ответа):** Насколько ответ верен фактически.\n",
        "# -   **Fluency (Беглость), Coherence (Связность).**\n",
        "#\n",
        "# **Инструменты:** RAGAS (Rag-as-a-Service), TruLens, LangChain Evaluators (требуют размеченных данных).\n",
        "#\n",
        "# **Оптимизация:** Экспериментирование с:\n",
        "# -   Различными стратегиями разбиения на чанки (размер, перекрытие).\n",
        "# -   Моделями эмбеддингов.\n",
        "# -   Порогами поиска в векторной базе данных (параметр `k` в ретривере).\n",
        "# -   Шаблонами промптов для LLM.\n",
        "# -   Моделями LLM (использование более крупных или специализированных моделей).\n",
        "#\n",
        "# Для полноценной оценки требуются размеченные пары \"вопрос-ответ\" с указанием релевантных фрагментов текста.\n",
        "# В рамках этого ноутбука мы проводим только качественную оценку на примерах.\n",
        "\n",
        "print(\"\\n--- Концепция оценки и оптимизации конвейера RAG ---\")\n",
        "print(\"Для полноценной оценки RAG-системы требуются размеченные данные (вопросы, правильные ответы, релевантные чанки).\")\n",
        "print(\"Оптимизация включает эксперименты с параметрами разбиения на чанки, моделями эмбеддингов, LLM и промптами.\")\n",
        "\n",
        "#\n",
        "# ## 9. Сохранение артефактов для развертывания\n",
        "#\n",
        "# Для развертывания RAG-системы в виде сервиса нам нужно сохранить обученные компоненты:\n",
        "# -   Векторную базу данных FAISS.\n",
        "# -   Название модели эмбеддингов (для загрузки в сервисе).\n",
        "# -   Название LLM (для загрузки в сервисе).\n",
        "# -   Шаблон промпта.\n",
        "\n",
        "# Векторная база данных уже сохранена в разделе 4: /tmp/faiss_index_alice\n",
        "# model_llm и tokenizer будут загружены по имени в сервисе.\n",
        "# embeddings также будут загружены по имени.\n",
        "\n",
        "# Сохраняем информацию о моделях для сервиса\n",
        "rag_config = {\n",
        "    \"embedding_model_name\": embedding_model_name,\n",
        "    \"llm_model_name\": llm_model_name,\n",
        "    \"vector_store_path\": vector_store_path,\n",
        "    \"prompt_template\": template\n",
        "}\n",
        "\n",
        "import json\n",
        "with open(\"/tmp/rag_config.json\", \"w\") as f:\n",
        "    json.dump(rag_config, f, indent=4)\n",
        "print(\"Конфигурация RAG-системы сохранена в '/tmp/rag_config.json'.\")\n",
        "\n",
        "print(\"\\nВывод по сохранению артефактов:\")\n",
        "print(\" - Векторная база данных FAISS и конфигурация RAG-системы сохранены.\")\n",
        "print(\" - Эти файлы будут использоваться для инициализации RAG-системы в FastAPI, Gradio и Streamlit сервисах.\")"
      ]
    },
    {
      "cell_type": "code",
      "execution_count": 16,
      "metadata": {
        "id": "ZU2IOHv9vZ4P"
      },
      "outputs": [],
      "source": []
    }
  ],
  "metadata": {
    "accelerator": "GPU",
    "colab": {
      "gpuType": "T4",
      "provenance": []
    },
    "kernelspec": {
      "display_name": "Python 3",
      "name": "python3"
    },
    "widgets": {
      "application/vnd.jupyter.widget-state+json": {
        "83df0e239cf24e81ac6a13e797b7cbbb": {
          "model_module": "@jupyter-widgets/controls",
          "model_name": "HBoxModel",
          "model_module_version": "1.5.0",
          "state": {
            "_dom_classes": [],
            "_model_module": "@jupyter-widgets/controls",
            "_model_module_version": "1.5.0",
            "_model_name": "HBoxModel",
            "_view_count": null,
            "_view_module": "@jupyter-widgets/controls",
            "_view_module_version": "1.5.0",
            "_view_name": "HBoxView",
            "box_style": "",
            "children": [
              "IPY_MODEL_ee69625209c64641beabdc0298454526",
              "IPY_MODEL_20ebb9b21eb64a31b194340cd67b3618",
              "IPY_MODEL_49574d71301141c482e3caae09c0f004"
            ],
            "layout": "IPY_MODEL_3398c380bb9e4889949f4ac1fe512ce3"
          }
        },
        "ee69625209c64641beabdc0298454526": {
          "model_module": "@jupyter-widgets/controls",
          "model_name": "HTMLModel",
          "model_module_version": "1.5.0",
          "state": {
            "_dom_classes": [],
            "_model_module": "@jupyter-widgets/controls",
            "_model_module_version": "1.5.0",
            "_model_name": "HTMLModel",
            "_view_count": null,
            "_view_module": "@jupyter-widgets/controls",
            "_view_module_version": "1.5.0",
            "_view_name": "HTMLView",
            "description": "",
            "description_tooltip": null,
            "layout": "IPY_MODEL_26c89c2e6df54eab86b349a6a52a11de",
            "placeholder": "​",
            "style": "IPY_MODEL_e05b27bf5dcf49e5bc8099aa92ca9252",
            "value": "Loading checkpoint shards: 100%"
          }
        },
        "20ebb9b21eb64a31b194340cd67b3618": {
          "model_module": "@jupyter-widgets/controls",
          "model_name": "FloatProgressModel",
          "model_module_version": "1.5.0",
          "state": {
            "_dom_classes": [],
            "_model_module": "@jupyter-widgets/controls",
            "_model_module_version": "1.5.0",
            "_model_name": "FloatProgressModel",
            "_view_count": null,
            "_view_module": "@jupyter-widgets/controls",
            "_view_module_version": "1.5.0",
            "_view_name": "ProgressView",
            "bar_style": "success",
            "description": "",
            "description_tooltip": null,
            "layout": "IPY_MODEL_dd491766439b47408ef68cd95144fed4",
            "max": 2,
            "min": 0,
            "orientation": "horizontal",
            "style": "IPY_MODEL_cda33e711e3746739354f90f60924ca4",
            "value": 2
          }
        },
        "49574d71301141c482e3caae09c0f004": {
          "model_module": "@jupyter-widgets/controls",
          "model_name": "HTMLModel",
          "model_module_version": "1.5.0",
          "state": {
            "_dom_classes": [],
            "_model_module": "@jupyter-widgets/controls",
            "_model_module_version": "1.5.0",
            "_model_name": "HTMLModel",
            "_view_count": null,
            "_view_module": "@jupyter-widgets/controls",
            "_view_module_version": "1.5.0",
            "_view_name": "HTMLView",
            "description": "",
            "description_tooltip": null,
            "layout": "IPY_MODEL_25bcd22a363c44e298be60c642aa82d4",
            "placeholder": "​",
            "style": "IPY_MODEL_07d9495bce6c483781daf6bc8cb776db",
            "value": " 2/2 [00:14&lt;00:00,  6.16s/it]"
          }
        },
        "3398c380bb9e4889949f4ac1fe512ce3": {
          "model_module": "@jupyter-widgets/base",
          "model_name": "LayoutModel",
          "model_module_version": "1.2.0",
          "state": {
            "_model_module": "@jupyter-widgets/base",
            "_model_module_version": "1.2.0",
            "_model_name": "LayoutModel",
            "_view_count": null,
            "_view_module": "@jupyter-widgets/base",
            "_view_module_version": "1.2.0",
            "_view_name": "LayoutView",
            "align_content": null,
            "align_items": null,
            "align_self": null,
            "border": null,
            "bottom": null,
            "display": null,
            "flex": null,
            "flex_flow": null,
            "grid_area": null,
            "grid_auto_columns": null,
            "grid_auto_flow": null,
            "grid_auto_rows": null,
            "grid_column": null,
            "grid_gap": null,
            "grid_row": null,
            "grid_template_areas": null,
            "grid_template_columns": null,
            "grid_template_rows": null,
            "height": null,
            "justify_content": null,
            "justify_items": null,
            "left": null,
            "margin": null,
            "max_height": null,
            "max_width": null,
            "min_height": null,
            "min_width": null,
            "object_fit": null,
            "object_position": null,
            "order": null,
            "overflow": null,
            "overflow_x": null,
            "overflow_y": null,
            "padding": null,
            "right": null,
            "top": null,
            "visibility": null,
            "width": null
          }
        },
        "26c89c2e6df54eab86b349a6a52a11de": {
          "model_module": "@jupyter-widgets/base",
          "model_name": "LayoutModel",
          "model_module_version": "1.2.0",
          "state": {
            "_model_module": "@jupyter-widgets/base",
            "_model_module_version": "1.2.0",
            "_model_name": "LayoutModel",
            "_view_count": null,
            "_view_module": "@jupyter-widgets/base",
            "_view_module_version": "1.2.0",
            "_view_name": "LayoutView",
            "align_content": null,
            "align_items": null,
            "align_self": null,
            "border": null,
            "bottom": null,
            "display": null,
            "flex": null,
            "flex_flow": null,
            "grid_area": null,
            "grid_auto_columns": null,
            "grid_auto_flow": null,
            "grid_auto_rows": null,
            "grid_column": null,
            "grid_gap": null,
            "grid_row": null,
            "grid_template_areas": null,
            "grid_template_columns": null,
            "grid_template_rows": null,
            "height": null,
            "justify_content": null,
            "justify_items": null,
            "left": null,
            "margin": null,
            "max_height": null,
            "max_width": null,
            "min_height": null,
            "min_width": null,
            "object_fit": null,
            "object_position": null,
            "order": null,
            "overflow": null,
            "overflow_x": null,
            "overflow_y": null,
            "padding": null,
            "right": null,
            "top": null,
            "visibility": null,
            "width": null
          }
        },
        "e05b27bf5dcf49e5bc8099aa92ca9252": {
          "model_module": "@jupyter-widgets/controls",
          "model_name": "DescriptionStyleModel",
          "model_module_version": "1.5.0",
          "state": {
            "_model_module": "@jupyter-widgets/controls",
            "_model_module_version": "1.5.0",
            "_model_name": "DescriptionStyleModel",
            "_view_count": null,
            "_view_module": "@jupyter-widgets/base",
            "_view_module_version": "1.2.0",
            "_view_name": "StyleView",
            "description_width": ""
          }
        },
        "dd491766439b47408ef68cd95144fed4": {
          "model_module": "@jupyter-widgets/base",
          "model_name": "LayoutModel",
          "model_module_version": "1.2.0",
          "state": {
            "_model_module": "@jupyter-widgets/base",
            "_model_module_version": "1.2.0",
            "_model_name": "LayoutModel",
            "_view_count": null,
            "_view_module": "@jupyter-widgets/base",
            "_view_module_version": "1.2.0",
            "_view_name": "LayoutView",
            "align_content": null,
            "align_items": null,
            "align_self": null,
            "border": null,
            "bottom": null,
            "display": null,
            "flex": null,
            "flex_flow": null,
            "grid_area": null,
            "grid_auto_columns": null,
            "grid_auto_flow": null,
            "grid_auto_rows": null,
            "grid_column": null,
            "grid_gap": null,
            "grid_row": null,
            "grid_template_areas": null,
            "grid_template_columns": null,
            "grid_template_rows": null,
            "height": null,
            "justify_content": null,
            "justify_items": null,
            "left": null,
            "margin": null,
            "max_height": null,
            "max_width": null,
            "min_height": null,
            "min_width": null,
            "object_fit": null,
            "object_position": null,
            "order": null,
            "overflow": null,
            "overflow_x": null,
            "overflow_y": null,
            "padding": null,
            "right": null,
            "top": null,
            "visibility": null,
            "width": null
          }
        },
        "cda33e711e3746739354f90f60924ca4": {
          "model_module": "@jupyter-widgets/controls",
          "model_name": "ProgressStyleModel",
          "model_module_version": "1.5.0",
          "state": {
            "_model_module": "@jupyter-widgets/controls",
            "_model_module_version": "1.5.0",
            "_model_name": "ProgressStyleModel",
            "_view_count": null,
            "_view_module": "@jupyter-widgets/base",
            "_view_module_version": "1.2.0",
            "_view_name": "StyleView",
            "bar_color": null,
            "description_width": ""
          }
        },
        "25bcd22a363c44e298be60c642aa82d4": {
          "model_module": "@jupyter-widgets/base",
          "model_name": "LayoutModel",
          "model_module_version": "1.2.0",
          "state": {
            "_model_module": "@jupyter-widgets/base",
            "_model_module_version": "1.2.0",
            "_model_name": "LayoutModel",
            "_view_count": null,
            "_view_module": "@jupyter-widgets/base",
            "_view_module_version": "1.2.0",
            "_view_name": "LayoutView",
            "align_content": null,
            "align_items": null,
            "align_self": null,
            "border": null,
            "bottom": null,
            "display": null,
            "flex": null,
            "flex_flow": null,
            "grid_area": null,
            "grid_auto_columns": null,
            "grid_auto_flow": null,
            "grid_auto_rows": null,
            "grid_column": null,
            "grid_gap": null,
            "grid_row": null,
            "grid_template_areas": null,
            "grid_template_columns": null,
            "grid_template_rows": null,
            "height": null,
            "justify_content": null,
            "justify_items": null,
            "left": null,
            "margin": null,
            "max_height": null,
            "max_width": null,
            "min_height": null,
            "min_width": null,
            "object_fit": null,
            "object_position": null,
            "order": null,
            "overflow": null,
            "overflow_x": null,
            "overflow_y": null,
            "padding": null,
            "right": null,
            "top": null,
            "visibility": null,
            "width": null
          }
        },
        "07d9495bce6c483781daf6bc8cb776db": {
          "model_module": "@jupyter-widgets/controls",
          "model_name": "DescriptionStyleModel",
          "model_module_version": "1.5.0",
          "state": {
            "_model_module": "@jupyter-widgets/controls",
            "_model_module_version": "1.5.0",
            "_model_name": "DescriptionStyleModel",
            "_view_count": null,
            "_view_module": "@jupyter-widgets/base",
            "_view_module_version": "1.2.0",
            "_view_name": "StyleView",
            "description_width": ""
          }
        },
        "ed26243d1df2409b87aa58994b88a9d7": {
          "model_module": "@jupyter-widgets/controls",
          "model_name": "HBoxModel",
          "model_module_version": "1.5.0",
          "state": {
            "_dom_classes": [],
            "_model_module": "@jupyter-widgets/controls",
            "_model_module_version": "1.5.0",
            "_model_name": "HBoxModel",
            "_view_count": null,
            "_view_module": "@jupyter-widgets/controls",
            "_view_module_version": "1.5.0",
            "_view_name": "HBoxView",
            "box_style": "",
            "children": [
              "IPY_MODEL_9af1f0d2d1ae41f9ae04e05fdb5c4662",
              "IPY_MODEL_8cd2a02c3d594538b77045e4e6261102",
              "IPY_MODEL_8b0436cd19f440ddbea627de9ae3f9da"
            ],
            "layout": "IPY_MODEL_10b029d66e84435d917bac5fa391b2f5"
          }
        },
        "9af1f0d2d1ae41f9ae04e05fdb5c4662": {
          "model_module": "@jupyter-widgets/controls",
          "model_name": "HTMLModel",
          "model_module_version": "1.5.0",
          "state": {
            "_dom_classes": [],
            "_model_module": "@jupyter-widgets/controls",
            "_model_module_version": "1.5.0",
            "_model_name": "HTMLModel",
            "_view_count": null,
            "_view_module": "@jupyter-widgets/controls",
            "_view_module_version": "1.5.0",
            "_view_name": "HTMLView",
            "description": "",
            "description_tooltip": null,
            "layout": "IPY_MODEL_58142960c8024a8c8786b4162cfac91e",
            "placeholder": "​",
            "style": "IPY_MODEL_015937389f1d4662b85a9799edb314e9",
            "value": "Loading checkpoint shards: 100%"
          }
        },
        "8cd2a02c3d594538b77045e4e6261102": {
          "model_module": "@jupyter-widgets/controls",
          "model_name": "FloatProgressModel",
          "model_module_version": "1.5.0",
          "state": {
            "_dom_classes": [],
            "_model_module": "@jupyter-widgets/controls",
            "_model_module_version": "1.5.0",
            "_model_name": "FloatProgressModel",
            "_view_count": null,
            "_view_module": "@jupyter-widgets/controls",
            "_view_module_version": "1.5.0",
            "_view_name": "ProgressView",
            "bar_style": "success",
            "description": "",
            "description_tooltip": null,
            "layout": "IPY_MODEL_86124760e9434fa58b92682e4457970a",
            "max": 2,
            "min": 0,
            "orientation": "horizontal",
            "style": "IPY_MODEL_8962eebb686d4fb1a1eca045f67f7322",
            "value": 2
          }
        },
        "8b0436cd19f440ddbea627de9ae3f9da": {
          "model_module": "@jupyter-widgets/controls",
          "model_name": "HTMLModel",
          "model_module_version": "1.5.0",
          "state": {
            "_dom_classes": [],
            "_model_module": "@jupyter-widgets/controls",
            "_model_module_version": "1.5.0",
            "_model_name": "HTMLModel",
            "_view_count": null,
            "_view_module": "@jupyter-widgets/controls",
            "_view_module_version": "1.5.0",
            "_view_name": "HTMLView",
            "description": "",
            "description_tooltip": null,
            "layout": "IPY_MODEL_7183927e967f484695584b082d106028",
            "placeholder": "​",
            "style": "IPY_MODEL_937a7ce7c044444e8de3bc8bc0fd0946",
            "value": " 2/2 [00:21&lt;00:00,  8.76s/it]"
          }
        },
        "10b029d66e84435d917bac5fa391b2f5": {
          "model_module": "@jupyter-widgets/base",
          "model_name": "LayoutModel",
          "model_module_version": "1.2.0",
          "state": {
            "_model_module": "@jupyter-widgets/base",
            "_model_module_version": "1.2.0",
            "_model_name": "LayoutModel",
            "_view_count": null,
            "_view_module": "@jupyter-widgets/base",
            "_view_module_version": "1.2.0",
            "_view_name": "LayoutView",
            "align_content": null,
            "align_items": null,
            "align_self": null,
            "border": null,
            "bottom": null,
            "display": null,
            "flex": null,
            "flex_flow": null,
            "grid_area": null,
            "grid_auto_columns": null,
            "grid_auto_flow": null,
            "grid_auto_rows": null,
            "grid_column": null,
            "grid_gap": null,
            "grid_row": null,
            "grid_template_areas": null,
            "grid_template_columns": null,
            "grid_template_rows": null,
            "height": null,
            "justify_content": null,
            "justify_items": null,
            "left": null,
            "margin": null,
            "max_height": null,
            "max_width": null,
            "min_height": null,
            "min_width": null,
            "object_fit": null,
            "object_position": null,
            "order": null,
            "overflow": null,
            "overflow_x": null,
            "overflow_y": null,
            "padding": null,
            "right": null,
            "top": null,
            "visibility": null,
            "width": null
          }
        },
        "58142960c8024a8c8786b4162cfac91e": {
          "model_module": "@jupyter-widgets/base",
          "model_name": "LayoutModel",
          "model_module_version": "1.2.0",
          "state": {
            "_model_module": "@jupyter-widgets/base",
            "_model_module_version": "1.2.0",
            "_model_name": "LayoutModel",
            "_view_count": null,
            "_view_module": "@jupyter-widgets/base",
            "_view_module_version": "1.2.0",
            "_view_name": "LayoutView",
            "align_content": null,
            "align_items": null,
            "align_self": null,
            "border": null,
            "bottom": null,
            "display": null,
            "flex": null,
            "flex_flow": null,
            "grid_area": null,
            "grid_auto_columns": null,
            "grid_auto_flow": null,
            "grid_auto_rows": null,
            "grid_column": null,
            "grid_gap": null,
            "grid_row": null,
            "grid_template_areas": null,
            "grid_template_columns": null,
            "grid_template_rows": null,
            "height": null,
            "justify_content": null,
            "justify_items": null,
            "left": null,
            "margin": null,
            "max_height": null,
            "max_width": null,
            "min_height": null,
            "min_width": null,
            "object_fit": null,
            "object_position": null,
            "order": null,
            "overflow": null,
            "overflow_x": null,
            "overflow_y": null,
            "padding": null,
            "right": null,
            "top": null,
            "visibility": null,
            "width": null
          }
        },
        "015937389f1d4662b85a9799edb314e9": {
          "model_module": "@jupyter-widgets/controls",
          "model_name": "DescriptionStyleModel",
          "model_module_version": "1.5.0",
          "state": {
            "_model_module": "@jupyter-widgets/controls",
            "_model_module_version": "1.5.0",
            "_model_name": "DescriptionStyleModel",
            "_view_count": null,
            "_view_module": "@jupyter-widgets/base",
            "_view_module_version": "1.2.0",
            "_view_name": "StyleView",
            "description_width": ""
          }
        },
        "86124760e9434fa58b92682e4457970a": {
          "model_module": "@jupyter-widgets/base",
          "model_name": "LayoutModel",
          "model_module_version": "1.2.0",
          "state": {
            "_model_module": "@jupyter-widgets/base",
            "_model_module_version": "1.2.0",
            "_model_name": "LayoutModel",
            "_view_count": null,
            "_view_module": "@jupyter-widgets/base",
            "_view_module_version": "1.2.0",
            "_view_name": "LayoutView",
            "align_content": null,
            "align_items": null,
            "align_self": null,
            "border": null,
            "bottom": null,
            "display": null,
            "flex": null,
            "flex_flow": null,
            "grid_area": null,
            "grid_auto_columns": null,
            "grid_auto_flow": null,
            "grid_auto_rows": null,
            "grid_column": null,
            "grid_gap": null,
            "grid_row": null,
            "grid_template_areas": null,
            "grid_template_columns": null,
            "grid_template_rows": null,
            "height": null,
            "justify_content": null,
            "justify_items": null,
            "left": null,
            "margin": null,
            "max_height": null,
            "max_width": null,
            "min_height": null,
            "min_width": null,
            "object_fit": null,
            "object_position": null,
            "order": null,
            "overflow": null,
            "overflow_x": null,
            "overflow_y": null,
            "padding": null,
            "right": null,
            "top": null,
            "visibility": null,
            "width": null
          }
        },
        "8962eebb686d4fb1a1eca045f67f7322": {
          "model_module": "@jupyter-widgets/controls",
          "model_name": "ProgressStyleModel",
          "model_module_version": "1.5.0",
          "state": {
            "_model_module": "@jupyter-widgets/controls",
            "_model_module_version": "1.5.0",
            "_model_name": "ProgressStyleModel",
            "_view_count": null,
            "_view_module": "@jupyter-widgets/base",
            "_view_module_version": "1.2.0",
            "_view_name": "StyleView",
            "bar_color": null,
            "description_width": ""
          }
        },
        "7183927e967f484695584b082d106028": {
          "model_module": "@jupyter-widgets/base",
          "model_name": "LayoutModel",
          "model_module_version": "1.2.0",
          "state": {
            "_model_module": "@jupyter-widgets/base",
            "_model_module_version": "1.2.0",
            "_model_name": "LayoutModel",
            "_view_count": null,
            "_view_module": "@jupyter-widgets/base",
            "_view_module_version": "1.2.0",
            "_view_name": "LayoutView",
            "align_content": null,
            "align_items": null,
            "align_self": null,
            "border": null,
            "bottom": null,
            "display": null,
            "flex": null,
            "flex_flow": null,
            "grid_area": null,
            "grid_auto_columns": null,
            "grid_auto_flow": null,
            "grid_auto_rows": null,
            "grid_column": null,
            "grid_gap": null,
            "grid_row": null,
            "grid_template_areas": null,
            "grid_template_columns": null,
            "grid_template_rows": null,
            "height": null,
            "justify_content": null,
            "justify_items": null,
            "left": null,
            "margin": null,
            "max_height": null,
            "max_width": null,
            "min_height": null,
            "min_width": null,
            "object_fit": null,
            "object_position": null,
            "order": null,
            "overflow": null,
            "overflow_x": null,
            "overflow_y": null,
            "padding": null,
            "right": null,
            "top": null,
            "visibility": null,
            "width": null
          }
        },
        "937a7ce7c044444e8de3bc8bc0fd0946": {
          "model_module": "@jupyter-widgets/controls",
          "model_name": "DescriptionStyleModel",
          "model_module_version": "1.5.0",
          "state": {
            "_model_module": "@jupyter-widgets/controls",
            "_model_module_version": "1.5.0",
            "_model_name": "DescriptionStyleModel",
            "_view_count": null,
            "_view_module": "@jupyter-widgets/base",
            "_view_module_version": "1.2.0",
            "_view_name": "StyleView",
            "description_width": ""
          }
        }
      }
    }
  },
  "nbformat": 4,
  "nbformat_minor": 0
}